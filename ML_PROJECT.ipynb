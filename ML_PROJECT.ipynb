{
 "cells": [
  {
   "cell_type": "code",
   "execution_count": 1,
   "id": "12864316",
   "metadata": {},
   "outputs": [],
   "source": [
    "import pandas as pd\n",
    "import matplotlib.pyplot as plt\n",
    "import seaborn as sns\n",
    "from sklearn.linear_model import LinearRegression\n",
    "from sklearn.linear_model import LogisticRegression\n",
    "from sklearn.linear_model import Lasso\n",
    "from sklearn import metrics\n",
    "from sklearn.metrics import accuracy_score\n"
   ]
  },
  {
   "cell_type": "code",
   "execution_count": 2,
   "id": "6db10194",
   "metadata": {},
   "outputs": [],
   "source": [
    "data = pd.read_excel('ML Data.xlsx')"
   ]
  },
  {
   "cell_type": "code",
   "execution_count": 3,
   "id": "3e878ae9",
   "metadata": {},
   "outputs": [
    {
     "data": {
      "text/html": [
       "<div>\n",
       "<style scoped>\n",
       "    .dataframe tbody tr th:only-of-type {\n",
       "        vertical-align: middle;\n",
       "    }\n",
       "\n",
       "    .dataframe tbody tr th {\n",
       "        vertical-align: top;\n",
       "    }\n",
       "\n",
       "    .dataframe thead th {\n",
       "        text-align: right;\n",
       "    }\n",
       "</style>\n",
       "<table border=\"1\" class=\"dataframe\">\n",
       "  <thead>\n",
       "    <tr style=\"text-align: right;\">\n",
       "      <th></th>\n",
       "      <th>appointmentId</th>\n",
       "      <th>inspectionStartTime</th>\n",
       "      <th>year</th>\n",
       "      <th>month</th>\n",
       "      <th>engineTransmission_battery_value</th>\n",
       "      <th>engineTransmission_battery_cc_value_0</th>\n",
       "      <th>engineTransmission_battery_cc_value_1</th>\n",
       "      <th>engineTransmission_battery_cc_value_2</th>\n",
       "      <th>engineTransmission_battery_cc_value_3</th>\n",
       "      <th>engineTransmission_battery_cc_value_4</th>\n",
       "      <th>...</th>\n",
       "      <th>engineTransmission_gearShifting_cc_value_1</th>\n",
       "      <th>engineTransmission_gearShifting_cc_value_2</th>\n",
       "      <th>engineTransmission_comments_value_0</th>\n",
       "      <th>engineTransmission_comments_value_1</th>\n",
       "      <th>engineTransmission_comments_value_2</th>\n",
       "      <th>engineTransmission_comments_value_3</th>\n",
       "      <th>engineTransmission_comments_value_4</th>\n",
       "      <th>fuel_type</th>\n",
       "      <th>odometer_reading</th>\n",
       "      <th>rating_engineTransmission</th>\n",
       "    </tr>\n",
       "  </thead>\n",
       "  <tbody>\n",
       "    <tr>\n",
       "      <th>0</th>\n",
       "      <td>aj_01</td>\n",
       "      <td>2019-03-02 15:43:00</td>\n",
       "      <td>2008.0</td>\n",
       "      <td>8.0</td>\n",
       "      <td>No</td>\n",
       "      <td>Weak</td>\n",
       "      <td>NaN</td>\n",
       "      <td>NaN</td>\n",
       "      <td>NaN</td>\n",
       "      <td>NaN</td>\n",
       "      <td>...</td>\n",
       "      <td>NaN</td>\n",
       "      <td>NaN</td>\n",
       "      <td>Pickup Low</td>\n",
       "      <td>Starter Motor / Solenoid malfunctioning</td>\n",
       "      <td>NaN</td>\n",
       "      <td>NaN</td>\n",
       "      <td>NaN</td>\n",
       "      <td>Petrol + CNG</td>\n",
       "      <td>124600.0</td>\n",
       "      <td>3.0</td>\n",
       "    </tr>\n",
       "    <tr>\n",
       "      <th>1</th>\n",
       "      <td>aj_02</td>\n",
       "      <td>1/16/19 13:02</td>\n",
       "      <td>2007.0</td>\n",
       "      <td>5.0</td>\n",
       "      <td>Yes</td>\n",
       "      <td>NaN</td>\n",
       "      <td>NaN</td>\n",
       "      <td>NaN</td>\n",
       "      <td>NaN</td>\n",
       "      <td>NaN</td>\n",
       "      <td>...</td>\n",
       "      <td>NaN</td>\n",
       "      <td>NaN</td>\n",
       "      <td>NaN</td>\n",
       "      <td>NaN</td>\n",
       "      <td>NaN</td>\n",
       "      <td>NaN</td>\n",
       "      <td>NaN</td>\n",
       "      <td>Petrol + CNG</td>\n",
       "      <td>78108.0</td>\n",
       "      <td>4.0</td>\n",
       "    </tr>\n",
       "    <tr>\n",
       "      <th>2</th>\n",
       "      <td>aj_03</td>\n",
       "      <td>2019-09-02 13:31:00</td>\n",
       "      <td>2012.0</td>\n",
       "      <td>5.0</td>\n",
       "      <td>Yes</td>\n",
       "      <td>NaN</td>\n",
       "      <td>NaN</td>\n",
       "      <td>NaN</td>\n",
       "      <td>NaN</td>\n",
       "      <td>NaN</td>\n",
       "      <td>...</td>\n",
       "      <td>NaN</td>\n",
       "      <td>NaN</td>\n",
       "      <td>NaN</td>\n",
       "      <td>NaN</td>\n",
       "      <td>NaN</td>\n",
       "      <td>NaN</td>\n",
       "      <td>NaN</td>\n",
       "      <td>Diesel</td>\n",
       "      <td>93348.0</td>\n",
       "      <td>3.5</td>\n",
       "    </tr>\n",
       "    <tr>\n",
       "      <th>3</th>\n",
       "      <td>aj_04</td>\n",
       "      <td>1/18/19 11:02</td>\n",
       "      <td>2013.0</td>\n",
       "      <td>1.0</td>\n",
       "      <td>Yes</td>\n",
       "      <td>NaN</td>\n",
       "      <td>NaN</td>\n",
       "      <td>NaN</td>\n",
       "      <td>NaN</td>\n",
       "      <td>NaN</td>\n",
       "      <td>...</td>\n",
       "      <td>NaN</td>\n",
       "      <td>NaN</td>\n",
       "      <td>NaN</td>\n",
       "      <td>NaN</td>\n",
       "      <td>NaN</td>\n",
       "      <td>NaN</td>\n",
       "      <td>NaN</td>\n",
       "      <td>Petrol + CNG</td>\n",
       "      <td>48233.0</td>\n",
       "      <td>3.5</td>\n",
       "    </tr>\n",
       "    <tr>\n",
       "      <th>4</th>\n",
       "      <td>aj_05</td>\n",
       "      <td>1/27/19 12:12</td>\n",
       "      <td>2011.0</td>\n",
       "      <td>7.0</td>\n",
       "      <td>Yes</td>\n",
       "      <td>NaN</td>\n",
       "      <td>NaN</td>\n",
       "      <td>NaN</td>\n",
       "      <td>NaN</td>\n",
       "      <td>NaN</td>\n",
       "      <td>...</td>\n",
       "      <td>NaN</td>\n",
       "      <td>NaN</td>\n",
       "      <td>NaN</td>\n",
       "      <td>NaN</td>\n",
       "      <td>NaN</td>\n",
       "      <td>NaN</td>\n",
       "      <td>NaN</td>\n",
       "      <td>Petrol + CNG</td>\n",
       "      <td>74368.0</td>\n",
       "      <td>4.0</td>\n",
       "    </tr>\n",
       "  </tbody>\n",
       "</table>\n",
       "<p>5 rows × 73 columns</p>\n",
       "</div>"
      ],
      "text/plain": [
       "  appointmentId  inspectionStartTime    year  month  \\\n",
       "0         aj_01  2019-03-02 15:43:00  2008.0    8.0   \n",
       "1         aj_02        1/16/19 13:02  2007.0    5.0   \n",
       "2         aj_03  2019-09-02 13:31:00  2012.0    5.0   \n",
       "3         aj_04        1/18/19 11:02  2013.0    1.0   \n",
       "4         aj_05        1/27/19 12:12  2011.0    7.0   \n",
       "\n",
       "  engineTransmission_battery_value engineTransmission_battery_cc_value_0  \\\n",
       "0                               No                                  Weak   \n",
       "1                              Yes                                   NaN   \n",
       "2                              Yes                                   NaN   \n",
       "3                              Yes                                   NaN   \n",
       "4                              Yes                                   NaN   \n",
       "\n",
       "  engineTransmission_battery_cc_value_1 engineTransmission_battery_cc_value_2  \\\n",
       "0                                   NaN                                   NaN   \n",
       "1                                   NaN                                   NaN   \n",
       "2                                   NaN                                   NaN   \n",
       "3                                   NaN                                   NaN   \n",
       "4                                   NaN                                   NaN   \n",
       "\n",
       "  engineTransmission_battery_cc_value_3 engineTransmission_battery_cc_value_4  \\\n",
       "0                                   NaN                                   NaN   \n",
       "1                                   NaN                                   NaN   \n",
       "2                                   NaN                                   NaN   \n",
       "3                                   NaN                                   NaN   \n",
       "4                                   NaN                                   NaN   \n",
       "\n",
       "   ... engineTransmission_gearShifting_cc_value_1  \\\n",
       "0  ...                                        NaN   \n",
       "1  ...                                        NaN   \n",
       "2  ...                                        NaN   \n",
       "3  ...                                        NaN   \n",
       "4  ...                                        NaN   \n",
       "\n",
       "  engineTransmission_gearShifting_cc_value_2  \\\n",
       "0                                        NaN   \n",
       "1                                        NaN   \n",
       "2                                        NaN   \n",
       "3                                        NaN   \n",
       "4                                        NaN   \n",
       "\n",
       "  engineTransmission_comments_value_0  \\\n",
       "0                          Pickup Low   \n",
       "1                                 NaN   \n",
       "2                                 NaN   \n",
       "3                                 NaN   \n",
       "4                                 NaN   \n",
       "\n",
       "       engineTransmission_comments_value_1  \\\n",
       "0  Starter Motor / Solenoid malfunctioning   \n",
       "1                                      NaN   \n",
       "2                                      NaN   \n",
       "3                                      NaN   \n",
       "4                                      NaN   \n",
       "\n",
       "  engineTransmission_comments_value_2 engineTransmission_comments_value_3  \\\n",
       "0                                 NaN                                 NaN   \n",
       "1                                 NaN                                 NaN   \n",
       "2                                 NaN                                 NaN   \n",
       "3                                 NaN                                 NaN   \n",
       "4                                 NaN                                 NaN   \n",
       "\n",
       "  engineTransmission_comments_value_4     fuel_type odometer_reading  \\\n",
       "0                                 NaN  Petrol + CNG         124600.0   \n",
       "1                                 NaN  Petrol + CNG          78108.0   \n",
       "2                                 NaN        Diesel          93348.0   \n",
       "3                                 NaN  Petrol + CNG          48233.0   \n",
       "4                                 NaN  Petrol + CNG          74368.0   \n",
       "\n",
       "  rating_engineTransmission  \n",
       "0                       3.0  \n",
       "1                       4.0  \n",
       "2                       3.5  \n",
       "3                       3.5  \n",
       "4                       4.0  \n",
       "\n",
       "[5 rows x 73 columns]"
      ]
     },
     "execution_count": 3,
     "metadata": {},
     "output_type": "execute_result"
    }
   ],
   "source": [
    "data.head()"
   ]
  },
  {
   "cell_type": "code",
   "execution_count": 4,
   "id": "6e32aa21",
   "metadata": {},
   "outputs": [
    {
     "data": {
      "text/plain": [
       "Index(['appointmentId', 'inspectionStartTime', 'year', 'month',\n",
       "       'engineTransmission_battery_value',\n",
       "       'engineTransmission_battery_cc_value_0',\n",
       "       'engineTransmission_battery_cc_value_1',\n",
       "       'engineTransmission_battery_cc_value_2',\n",
       "       'engineTransmission_battery_cc_value_3',\n",
       "       'engineTransmission_battery_cc_value_4',\n",
       "       'engineTransmission_engineoilLevelDipstick_value',\n",
       "       'engineTransmission_engineOilLevelDipstick_cc_value_0',\n",
       "       'engineTransmission_engineOil',\n",
       "       'engineTransmission_engineOil_cc_value_0',\n",
       "       'engineTransmission_engineOil_cc_value_1',\n",
       "       'engineTransmission_engineOil_cc_value_2',\n",
       "       'engineTransmission_engineOil_cc_value_3',\n",
       "       'engineTransmission_engineOil_cc_value_4',\n",
       "       'engineTransmission_engineOil_cc_value_5',\n",
       "       'engineTransmission_engineOil_cc_value_6',\n",
       "       'engineTransmission_engineOil_cc_value_7',\n",
       "       'engineTransmission_engineOil_cc_value_8',\n",
       "       'engineTransmission_engineOil_cc_value_9',\n",
       "       'engineTransmission_engine_value',\n",
       "       'engineTransmission_engine_cc_value_0',\n",
       "       'engineTransmission_engine_cc_value_1',\n",
       "       'engineTransmission_engine_cc_value_2',\n",
       "       'engineTransmission_engine_cc_value_3',\n",
       "       'engineTransmission_engine_cc_value_4',\n",
       "       'engineTransmission_engine_cc_value_5',\n",
       "       'engineTransmission_engine_cc_value_6',\n",
       "       'engineTransmission_engine_cc_value_7',\n",
       "       'engineTransmission_engine_cc_value_8',\n",
       "       'engineTransmission_engine_cc_value_9',\n",
       "       'engineTransmission_engine_cc_value_10',\n",
       "       'engineTransmission_coolant_value',\n",
       "       'engineTransmission_coolant_cc_value_0',\n",
       "       'engineTransmission_coolant_cc_value_1',\n",
       "       'engineTransmission_coolant_cc_value_2',\n",
       "       'engineTransmission_coolant_cc_value_3',\n",
       "       'engineTransmission_engineMounting_value',\n",
       "       'engineTransmission_engineMounting_cc_value_0',\n",
       "       'engineTransmission_engineSound_value',\n",
       "       'engineTransmission_engineSound_cc_value_0',\n",
       "       'engineTransmission_engineSound_cc_value_1',\n",
       "       'engineTransmission_engineSound_cc_value_2',\n",
       "       'engineTransmission_engineSound_cc_value_3',\n",
       "       'engineTransmission_engineSound_cc_value_4',\n",
       "       'engineTransmission_engineSound_cc_value_5',\n",
       "       'engineTransmission_exhaustSmoke_value',\n",
       "       'engineTransmission_exhaustSmoke_cc_value_0',\n",
       "       'engineTransmission_engineBlowByBackCompression_value',\n",
       "       'engineTransmission_engineBlowByBackCompression_cc_value_0',\n",
       "       'engineTransmission_clutch_value',\n",
       "       'engineTransmission_clutch_cc_value_0',\n",
       "       'engineTransmission_clutch_cc_value_1',\n",
       "       'engineTransmission_clutch_cc_value_2',\n",
       "       'engineTransmission_clutch_cc_value_3',\n",
       "       'engineTransmission_clutch_cc_value_4',\n",
       "       'engineTransmission_clutch_cc_value_5',\n",
       "       'engineTransmission_clutch_cc_value_6',\n",
       "       'engineTransmission_gearShifting_value',\n",
       "       'engineTransmission_gearShifting_cc_value_0',\n",
       "       'engineTransmission_gearShifting_cc_value_1',\n",
       "       'engineTransmission_gearShifting_cc_value_2',\n",
       "       'engineTransmission_comments_value_0',\n",
       "       'engineTransmission_comments_value_1',\n",
       "       'engineTransmission_comments_value_2',\n",
       "       'engineTransmission_comments_value_3',\n",
       "       'engineTransmission_comments_value_4', 'fuel_type', 'odometer_reading',\n",
       "       'rating_engineTransmission'],\n",
       "      dtype='object')"
      ]
     },
     "execution_count": 4,
     "metadata": {},
     "output_type": "execute_result"
    }
   ],
   "source": [
    "data.columns"
   ]
  },
  {
   "cell_type": "code",
   "execution_count": 5,
   "id": "eb000797",
   "metadata": {},
   "outputs": [
    {
     "name": "stdout",
     "output_type": "stream",
     "text": [
      "<class 'pandas.core.frame.DataFrame'>\n",
      "RangeIndex: 26307 entries, 0 to 26306\n",
      "Data columns (total 73 columns):\n",
      " #   Column                                                     Non-Null Count  Dtype  \n",
      "---  ------                                                     --------------  -----  \n",
      " 0   appointmentId                                              26307 non-null  object \n",
      " 1   inspectionStartTime                                        26307 non-null  object \n",
      " 2   year                                                       26307 non-null  float64\n",
      " 3   month                                                      26307 non-null  float64\n",
      " 4   engineTransmission_battery_value                           26307 non-null  object \n",
      " 5   engineTransmission_battery_cc_value_0                      3438 non-null   object \n",
      " 6   engineTransmission_battery_cc_value_1                      430 non-null    object \n",
      " 7   engineTransmission_battery_cc_value_2                      72 non-null     object \n",
      " 8   engineTransmission_battery_cc_value_3                      16 non-null     object \n",
      " 9   engineTransmission_battery_cc_value_4                      4 non-null      object \n",
      " 10  engineTransmission_engineoilLevelDipstick_value            26307 non-null  object \n",
      " 11  engineTransmission_engineOilLevelDipstick_cc_value_0       411 non-null    object \n",
      " 12  engineTransmission_engineOil                               26307 non-null  object \n",
      " 13  engineTransmission_engineOil_cc_value_0                    18557 non-null  object \n",
      " 14  engineTransmission_engineOil_cc_value_1                    11004 non-null  object \n",
      " 15  engineTransmission_engineOil_cc_value_2                    6593 non-null   object \n",
      " 16  engineTransmission_engineOil_cc_value_3                    3742 non-null   object \n",
      " 17  engineTransmission_engineOil_cc_value_4                    1772 non-null   object \n",
      " 18  engineTransmission_engineOil_cc_value_5                    609 non-null    object \n",
      " 19  engineTransmission_engineOil_cc_value_6                    121 non-null    object \n",
      " 20  engineTransmission_engineOil_cc_value_7                    11 non-null     object \n",
      " 21  engineTransmission_engineOil_cc_value_8                    2 non-null      object \n",
      " 22  engineTransmission_engineOil_cc_value_9                    0 non-null      float64\n",
      " 23  engineTransmission_engine_value                            26307 non-null  object \n",
      " 24  engineTransmission_engine_cc_value_0                       9070 non-null   object \n",
      " 25  engineTransmission_engine_cc_value_1                       5084 non-null   object \n",
      " 26  engineTransmission_engine_cc_value_2                       2374 non-null   object \n",
      " 27  engineTransmission_engine_cc_value_3                       904 non-null    object \n",
      " 28  engineTransmission_engine_cc_value_4                       296 non-null    object \n",
      " 29  engineTransmission_engine_cc_value_5                       92 non-null     object \n",
      " 30  engineTransmission_engine_cc_value_6                       37 non-null     object \n",
      " 31  engineTransmission_engine_cc_value_7                       8 non-null      object \n",
      " 32  engineTransmission_engine_cc_value_8                       4 non-null      object \n",
      " 33  engineTransmission_engine_cc_value_9                       3 non-null      object \n",
      " 34  engineTransmission_engine_cc_value_10                      0 non-null      float64\n",
      " 35  engineTransmission_coolant_value                           26307 non-null  object \n",
      " 36  engineTransmission_coolant_cc_value_0                      10036 non-null  object \n",
      " 37  engineTransmission_coolant_cc_value_1                      2363 non-null   object \n",
      " 38  engineTransmission_coolant_cc_value_2                      235 non-null    object \n",
      " 39  engineTransmission_coolant_cc_value_3                      8 non-null      object \n",
      " 40  engineTransmission_engineMounting_value                    26307 non-null  object \n",
      " 41  engineTransmission_engineMounting_cc_value_0               9287 non-null   object \n",
      " 42  engineTransmission_engineSound_value                       26307 non-null  object \n",
      " 43  engineTransmission_engineSound_cc_value_0                  19080 non-null  object \n",
      " 44  engineTransmission_engineSound_cc_value_1                  13505 non-null  object \n",
      " 45  engineTransmission_engineSound_cc_value_2                  6072 non-null   object \n",
      " 46  engineTransmission_engineSound_cc_value_3                  2152 non-null   object \n",
      " 47  engineTransmission_engineSound_cc_value_4                  727 non-null    object \n",
      " 48  engineTransmission_engineSound_cc_value_5                  184 non-null    object \n",
      " 49  engineTransmission_exhaustSmoke_value                      26307 non-null  object \n",
      " 50  engineTransmission_exhaustSmoke_cc_value_0                 5556 non-null   object \n",
      " 51  engineTransmission_engineBlowByBackCompression_value       26307 non-null  object \n",
      " 52  engineTransmission_engineBlowByBackCompression_cc_value_0  26307 non-null  object \n",
      " 53  engineTransmission_clutch_value                            26307 non-null  object \n",
      " 54  engineTransmission_clutch_cc_value_0                       11764 non-null  object \n",
      " 55  engineTransmission_clutch_cc_value_1                       4304 non-null   object \n",
      " 56  engineTransmission_clutch_cc_value_2                       797 non-null    object \n",
      " 57  engineTransmission_clutch_cc_value_3                       159 non-null    object \n",
      " 58  engineTransmission_clutch_cc_value_4                       43 non-null     object \n",
      " 59  engineTransmission_clutch_cc_value_5                       7 non-null      object \n",
      " 60  engineTransmission_clutch_cc_value_6                       1 non-null      object \n",
      " 61  engineTransmission_gearShifting_value                      26307 non-null  object \n",
      " 62  engineTransmission_gearShifting_cc_value_0                 3464 non-null   object \n",
      " 63  engineTransmission_gearShifting_cc_value_1                 771 non-null    object \n",
      " 64  engineTransmission_gearShifting_cc_value_2                 66 non-null     object \n",
      " 65  engineTransmission_comments_value_0                        4066 non-null   object \n",
      " 66  engineTransmission_comments_value_1                        1308 non-null   object \n",
      " 67  engineTransmission_comments_value_2                        390 non-null    object \n",
      " 68  engineTransmission_comments_value_3                        59 non-null     object \n",
      " 69  engineTransmission_comments_value_4                        14 non-null     object \n",
      " 70  fuel_type                                                  26307 non-null  object \n",
      " 71  odometer_reading                                           26307 non-null  float64\n",
      " 72  rating_engineTransmission                                  26307 non-null  float64\n",
      "dtypes: float64(6), object(67)\n",
      "memory usage: 14.7+ MB\n"
     ]
    }
   ],
   "source": [
    "data.info()"
   ]
  },
  {
   "cell_type": "code",
   "execution_count": 6,
   "id": "cbec4aea",
   "metadata": {},
   "outputs": [
    {
     "data": {
      "text/plain": [
       "appointmentId                              0\n",
       "inspectionStartTime                        0\n",
       "year                                       0\n",
       "month                                      0\n",
       "engineTransmission_battery_value           0\n",
       "                                       ...  \n",
       "engineTransmission_comments_value_3    26248\n",
       "engineTransmission_comments_value_4    26293\n",
       "fuel_type                                  0\n",
       "odometer_reading                           0\n",
       "rating_engineTransmission                  0\n",
       "Length: 73, dtype: int64"
      ]
     },
     "execution_count": 6,
     "metadata": {},
     "output_type": "execute_result"
    }
   ],
   "source": [
    "data.isnull().sum()\n"
   ]
  },
  {
   "cell_type": "code",
   "execution_count": 9,
   "id": "1976a40c",
   "metadata": {},
   "outputs": [],
   "source": [
    "#columns drop with less than 60%\n",
    "null_percent = data.isnull().sum()/data.shape[0]*100\n",
    "drop_column = null_percent[null_percentage>60].keys()\n",
    "dataa = data.drop(drop_column, axis=1)\n"
   ]
  },
  {
   "cell_type": "code",
   "execution_count": 10,
   "id": "699ddc64",
   "metadata": {},
   "outputs": [
    {
     "data": {
      "text/html": [
       "<div>\n",
       "<style scoped>\n",
       "    .dataframe tbody tr th:only-of-type {\n",
       "        vertical-align: middle;\n",
       "    }\n",
       "\n",
       "    .dataframe tbody tr th {\n",
       "        vertical-align: top;\n",
       "    }\n",
       "\n",
       "    .dataframe thead th {\n",
       "        text-align: right;\n",
       "    }\n",
       "</style>\n",
       "<table border=\"1\" class=\"dataframe\">\n",
       "  <thead>\n",
       "    <tr style=\"text-align: right;\">\n",
       "      <th></th>\n",
       "      <th>appointmentId</th>\n",
       "      <th>inspectionStartTime</th>\n",
       "      <th>year</th>\n",
       "      <th>month</th>\n",
       "      <th>engineTransmission_battery_value</th>\n",
       "      <th>engineTransmission_engineoilLevelDipstick_value</th>\n",
       "      <th>engineTransmission_engineOil</th>\n",
       "      <th>engineTransmission_engineOil_cc_value_0</th>\n",
       "      <th>engineTransmission_engineOil_cc_value_1</th>\n",
       "      <th>engineTransmission_engine_value</th>\n",
       "      <th>...</th>\n",
       "      <th>engineTransmission_engineSound_cc_value_1</th>\n",
       "      <th>engineTransmission_exhaustSmoke_value</th>\n",
       "      <th>engineTransmission_engineBlowByBackCompression_value</th>\n",
       "      <th>engineTransmission_engineBlowByBackCompression_cc_value_0</th>\n",
       "      <th>engineTransmission_clutch_value</th>\n",
       "      <th>engineTransmission_clutch_cc_value_0</th>\n",
       "      <th>engineTransmission_gearShifting_value</th>\n",
       "      <th>fuel_type</th>\n",
       "      <th>odometer_reading</th>\n",
       "      <th>rating_engineTransmission</th>\n",
       "    </tr>\n",
       "  </thead>\n",
       "  <tbody>\n",
       "    <tr>\n",
       "      <th>0</th>\n",
       "      <td>aj_01</td>\n",
       "      <td>2019-03-02 15:43:00</td>\n",
       "      <td>2008.0</td>\n",
       "      <td>8.0</td>\n",
       "      <td>No</td>\n",
       "      <td>Yes</td>\n",
       "      <td>No</td>\n",
       "      <td>Leaking</td>\n",
       "      <td>Dirty</td>\n",
       "      <td>No</td>\n",
       "      <td>...</td>\n",
       "      <td>Water Pump Brg Noise</td>\n",
       "      <td>No</td>\n",
       "      <td>No</td>\n",
       "      <td>Back Compression Exist</td>\n",
       "      <td>No</td>\n",
       "      <td>Spongy</td>\n",
       "      <td>Yes</td>\n",
       "      <td>Petrol + CNG</td>\n",
       "      <td>124600.0</td>\n",
       "      <td>3.0</td>\n",
       "    </tr>\n",
       "    <tr>\n",
       "      <th>1</th>\n",
       "      <td>aj_02</td>\n",
       "      <td>1/16/19 13:02</td>\n",
       "      <td>2007.0</td>\n",
       "      <td>5.0</td>\n",
       "      <td>Yes</td>\n",
       "      <td>Yes</td>\n",
       "      <td>No</td>\n",
       "      <td>Leaking</td>\n",
       "      <td>Dirty</td>\n",
       "      <td>No</td>\n",
       "      <td>...</td>\n",
       "      <td>Tappet Noise</td>\n",
       "      <td>No</td>\n",
       "      <td>Yes</td>\n",
       "      <td>NO Blow-by</td>\n",
       "      <td>Yes</td>\n",
       "      <td>NaN</td>\n",
       "      <td>Yes</td>\n",
       "      <td>Petrol + CNG</td>\n",
       "      <td>78108.0</td>\n",
       "      <td>4.0</td>\n",
       "    </tr>\n",
       "    <tr>\n",
       "      <th>2</th>\n",
       "      <td>aj_03</td>\n",
       "      <td>2019-09-02 13:31:00</td>\n",
       "      <td>2012.0</td>\n",
       "      <td>5.0</td>\n",
       "      <td>Yes</td>\n",
       "      <td>Yes</td>\n",
       "      <td>No</td>\n",
       "      <td>Dirty</td>\n",
       "      <td>NaN</td>\n",
       "      <td>Yes</td>\n",
       "      <td>...</td>\n",
       "      <td>Engine Auxiliary Noise</td>\n",
       "      <td>No</td>\n",
       "      <td>Yes</td>\n",
       "      <td>Perm. Blow By on idle</td>\n",
       "      <td>No</td>\n",
       "      <td>Hard</td>\n",
       "      <td>Yes</td>\n",
       "      <td>Diesel</td>\n",
       "      <td>93348.0</td>\n",
       "      <td>3.5</td>\n",
       "    </tr>\n",
       "    <tr>\n",
       "      <th>3</th>\n",
       "      <td>aj_04</td>\n",
       "      <td>1/18/19 11:02</td>\n",
       "      <td>2013.0</td>\n",
       "      <td>1.0</td>\n",
       "      <td>Yes</td>\n",
       "      <td>Yes</td>\n",
       "      <td>No</td>\n",
       "      <td>Dirty</td>\n",
       "      <td>NaN</td>\n",
       "      <td>Yes</td>\n",
       "      <td>...</td>\n",
       "      <td>NaN</td>\n",
       "      <td>Yes</td>\n",
       "      <td>Yes</td>\n",
       "      <td>NO Blow-by</td>\n",
       "      <td>No</td>\n",
       "      <td>Hard</td>\n",
       "      <td>Yes</td>\n",
       "      <td>Petrol + CNG</td>\n",
       "      <td>48233.0</td>\n",
       "      <td>3.5</td>\n",
       "    </tr>\n",
       "    <tr>\n",
       "      <th>4</th>\n",
       "      <td>aj_05</td>\n",
       "      <td>1/27/19 12:12</td>\n",
       "      <td>2011.0</td>\n",
       "      <td>7.0</td>\n",
       "      <td>Yes</td>\n",
       "      <td>Yes</td>\n",
       "      <td>No</td>\n",
       "      <td>Leaking</td>\n",
       "      <td>Leakage from Tappet Cover</td>\n",
       "      <td>No</td>\n",
       "      <td>...</td>\n",
       "      <td>Tappet Noise</td>\n",
       "      <td>No</td>\n",
       "      <td>Yes</td>\n",
       "      <td>NO Blow-by</td>\n",
       "      <td>No</td>\n",
       "      <td>Spongy</td>\n",
       "      <td>Yes</td>\n",
       "      <td>Petrol + CNG</td>\n",
       "      <td>74368.0</td>\n",
       "      <td>4.0</td>\n",
       "    </tr>\n",
       "    <tr>\n",
       "      <th>...</th>\n",
       "      <td>...</td>\n",
       "      <td>...</td>\n",
       "      <td>...</td>\n",
       "      <td>...</td>\n",
       "      <td>...</td>\n",
       "      <td>...</td>\n",
       "      <td>...</td>\n",
       "      <td>...</td>\n",
       "      <td>...</td>\n",
       "      <td>...</td>\n",
       "      <td>...</td>\n",
       "      <td>...</td>\n",
       "      <td>...</td>\n",
       "      <td>...</td>\n",
       "      <td>...</td>\n",
       "      <td>...</td>\n",
       "      <td>...</td>\n",
       "      <td>...</td>\n",
       "      <td>...</td>\n",
       "      <td>...</td>\n",
       "      <td>...</td>\n",
       "    </tr>\n",
       "    <tr>\n",
       "      <th>26302</th>\n",
       "      <td>aj_26303</td>\n",
       "      <td>2019-10-03 13:08:00</td>\n",
       "      <td>2013.0</td>\n",
       "      <td>3.0</td>\n",
       "      <td>Yes</td>\n",
       "      <td>Yes</td>\n",
       "      <td>No</td>\n",
       "      <td>Leaking</td>\n",
       "      <td>Dirty</td>\n",
       "      <td>Yes</td>\n",
       "      <td>...</td>\n",
       "      <td>Tappet Noise</td>\n",
       "      <td>Yes</td>\n",
       "      <td>Yes</td>\n",
       "      <td>NO Blow-by</td>\n",
       "      <td>Yes</td>\n",
       "      <td>NaN</td>\n",
       "      <td>Yes</td>\n",
       "      <td>Petrol + CNG</td>\n",
       "      <td>64532.0</td>\n",
       "      <td>4.0</td>\n",
       "    </tr>\n",
       "    <tr>\n",
       "      <th>26303</th>\n",
       "      <td>aj_26304</td>\n",
       "      <td>2019-12-04 13:59:00</td>\n",
       "      <td>2007.0</td>\n",
       "      <td>8.0</td>\n",
       "      <td>No</td>\n",
       "      <td>No</td>\n",
       "      <td>No</td>\n",
       "      <td>Dirty</td>\n",
       "      <td>NaN</td>\n",
       "      <td>No</td>\n",
       "      <td>...</td>\n",
       "      <td>Timing Noise</td>\n",
       "      <td>Yes</td>\n",
       "      <td>No</td>\n",
       "      <td>Back Compression Exist</td>\n",
       "      <td>No</td>\n",
       "      <td>Hard</td>\n",
       "      <td>Yes</td>\n",
       "      <td>Petrol</td>\n",
       "      <td>88051.0</td>\n",
       "      <td>4.0</td>\n",
       "    </tr>\n",
       "    <tr>\n",
       "      <th>26304</th>\n",
       "      <td>aj_26305</td>\n",
       "      <td>2/28/19 10:42</td>\n",
       "      <td>2004.0</td>\n",
       "      <td>7.0</td>\n",
       "      <td>Yes</td>\n",
       "      <td>Yes</td>\n",
       "      <td>No</td>\n",
       "      <td>Leaking</td>\n",
       "      <td>Dirty</td>\n",
       "      <td>No</td>\n",
       "      <td>...</td>\n",
       "      <td>Tappet Noise</td>\n",
       "      <td>Yes</td>\n",
       "      <td>Yes</td>\n",
       "      <td>NO Blow-by</td>\n",
       "      <td>No</td>\n",
       "      <td>Hard</td>\n",
       "      <td>Yes</td>\n",
       "      <td>Petrol</td>\n",
       "      <td>22656.0</td>\n",
       "      <td>3.5</td>\n",
       "    </tr>\n",
       "    <tr>\n",
       "      <th>26305</th>\n",
       "      <td>aj_26306</td>\n",
       "      <td>2019-02-04 12:21:00</td>\n",
       "      <td>2010.0</td>\n",
       "      <td>12.0</td>\n",
       "      <td>Yes</td>\n",
       "      <td>Yes</td>\n",
       "      <td>No</td>\n",
       "      <td>Dirty</td>\n",
       "      <td>Leakage from Sump/chamber</td>\n",
       "      <td>Yes</td>\n",
       "      <td>...</td>\n",
       "      <td>NaN</td>\n",
       "      <td>No</td>\n",
       "      <td>Yes</td>\n",
       "      <td>NO Blow-by</td>\n",
       "      <td>Yes</td>\n",
       "      <td>NaN</td>\n",
       "      <td>Yes</td>\n",
       "      <td>Diesel</td>\n",
       "      <td>126015.0</td>\n",
       "      <td>4.5</td>\n",
       "    </tr>\n",
       "    <tr>\n",
       "      <th>26306</th>\n",
       "      <td>aj_26307</td>\n",
       "      <td>2019-06-04 13:09:00</td>\n",
       "      <td>2015.0</td>\n",
       "      <td>11.0</td>\n",
       "      <td>Yes</td>\n",
       "      <td>Yes</td>\n",
       "      <td>No</td>\n",
       "      <td>Dirty</td>\n",
       "      <td>NaN</td>\n",
       "      <td>Yes</td>\n",
       "      <td>...</td>\n",
       "      <td>NaN</td>\n",
       "      <td>Yes</td>\n",
       "      <td>Yes</td>\n",
       "      <td>NO Blow-by</td>\n",
       "      <td>Yes</td>\n",
       "      <td>NaN</td>\n",
       "      <td>Yes</td>\n",
       "      <td>Petrol</td>\n",
       "      <td>23983.0</td>\n",
       "      <td>4.5</td>\n",
       "    </tr>\n",
       "  </tbody>\n",
       "</table>\n",
       "<p>26307 rows × 24 columns</p>\n",
       "</div>"
      ],
      "text/plain": [
       "      appointmentId  inspectionStartTime    year  month  \\\n",
       "0             aj_01  2019-03-02 15:43:00  2008.0    8.0   \n",
       "1             aj_02        1/16/19 13:02  2007.0    5.0   \n",
       "2             aj_03  2019-09-02 13:31:00  2012.0    5.0   \n",
       "3             aj_04        1/18/19 11:02  2013.0    1.0   \n",
       "4             aj_05        1/27/19 12:12  2011.0    7.0   \n",
       "...             ...                  ...     ...    ...   \n",
       "26302      aj_26303  2019-10-03 13:08:00  2013.0    3.0   \n",
       "26303      aj_26304  2019-12-04 13:59:00  2007.0    8.0   \n",
       "26304      aj_26305        2/28/19 10:42  2004.0    7.0   \n",
       "26305      aj_26306  2019-02-04 12:21:00  2010.0   12.0   \n",
       "26306      aj_26307  2019-06-04 13:09:00  2015.0   11.0   \n",
       "\n",
       "      engineTransmission_battery_value  \\\n",
       "0                                   No   \n",
       "1                                  Yes   \n",
       "2                                  Yes   \n",
       "3                                  Yes   \n",
       "4                                  Yes   \n",
       "...                                ...   \n",
       "26302                              Yes   \n",
       "26303                               No   \n",
       "26304                              Yes   \n",
       "26305                              Yes   \n",
       "26306                              Yes   \n",
       "\n",
       "      engineTransmission_engineoilLevelDipstick_value  \\\n",
       "0                                                 Yes   \n",
       "1                                                 Yes   \n",
       "2                                                 Yes   \n",
       "3                                                 Yes   \n",
       "4                                                 Yes   \n",
       "...                                               ...   \n",
       "26302                                             Yes   \n",
       "26303                                              No   \n",
       "26304                                             Yes   \n",
       "26305                                             Yes   \n",
       "26306                                             Yes   \n",
       "\n",
       "      engineTransmission_engineOil engineTransmission_engineOil_cc_value_0  \\\n",
       "0                               No                                 Leaking   \n",
       "1                               No                                 Leaking   \n",
       "2                               No                                   Dirty   \n",
       "3                               No                                   Dirty   \n",
       "4                               No                                 Leaking   \n",
       "...                            ...                                     ...   \n",
       "26302                           No                                 Leaking   \n",
       "26303                           No                                   Dirty   \n",
       "26304                           No                                 Leaking   \n",
       "26305                           No                                   Dirty   \n",
       "26306                           No                                   Dirty   \n",
       "\n",
       "      engineTransmission_engineOil_cc_value_1 engineTransmission_engine_value  \\\n",
       "0                                       Dirty                              No   \n",
       "1                                       Dirty                              No   \n",
       "2                                         NaN                             Yes   \n",
       "3                                         NaN                             Yes   \n",
       "4                   Leakage from Tappet Cover                              No   \n",
       "...                                       ...                             ...   \n",
       "26302                                   Dirty                             Yes   \n",
       "26303                                     NaN                              No   \n",
       "26304                                   Dirty                              No   \n",
       "26305               Leakage from Sump/chamber                             Yes   \n",
       "26306                                     NaN                             Yes   \n",
       "\n",
       "       ... engineTransmission_engineSound_cc_value_1  \\\n",
       "0      ...                      Water Pump Brg Noise   \n",
       "1      ...                              Tappet Noise   \n",
       "2      ...                    Engine Auxiliary Noise   \n",
       "3      ...                                       NaN   \n",
       "4      ...                              Tappet Noise   \n",
       "...    ...                                       ...   \n",
       "26302  ...                              Tappet Noise   \n",
       "26303  ...                              Timing Noise   \n",
       "26304  ...                              Tappet Noise   \n",
       "26305  ...                                       NaN   \n",
       "26306  ...                                       NaN   \n",
       "\n",
       "      engineTransmission_exhaustSmoke_value  \\\n",
       "0                                        No   \n",
       "1                                        No   \n",
       "2                                        No   \n",
       "3                                       Yes   \n",
       "4                                        No   \n",
       "...                                     ...   \n",
       "26302                                   Yes   \n",
       "26303                                   Yes   \n",
       "26304                                   Yes   \n",
       "26305                                    No   \n",
       "26306                                   Yes   \n",
       "\n",
       "      engineTransmission_engineBlowByBackCompression_value  \\\n",
       "0                                                     No     \n",
       "1                                                    Yes     \n",
       "2                                                    Yes     \n",
       "3                                                    Yes     \n",
       "4                                                    Yes     \n",
       "...                                                  ...     \n",
       "26302                                                Yes     \n",
       "26303                                                 No     \n",
       "26304                                                Yes     \n",
       "26305                                                Yes     \n",
       "26306                                                Yes     \n",
       "\n",
       "      engineTransmission_engineBlowByBackCompression_cc_value_0  \\\n",
       "0                                 Back Compression Exist          \n",
       "1                                             NO Blow-by          \n",
       "2                                  Perm. Blow By on idle          \n",
       "3                                             NO Blow-by          \n",
       "4                                             NO Blow-by          \n",
       "...                                                  ...          \n",
       "26302                                         NO Blow-by          \n",
       "26303                             Back Compression Exist          \n",
       "26304                                         NO Blow-by          \n",
       "26305                                         NO Blow-by          \n",
       "26306                                         NO Blow-by          \n",
       "\n",
       "      engineTransmission_clutch_value engineTransmission_clutch_cc_value_0  \\\n",
       "0                                  No                               Spongy   \n",
       "1                                 Yes                                  NaN   \n",
       "2                                  No                                 Hard   \n",
       "3                                  No                                 Hard   \n",
       "4                                  No                               Spongy   \n",
       "...                               ...                                  ...   \n",
       "26302                             Yes                                  NaN   \n",
       "26303                              No                                 Hard   \n",
       "26304                              No                                 Hard   \n",
       "26305                             Yes                                  NaN   \n",
       "26306                             Yes                                  NaN   \n",
       "\n",
       "      engineTransmission_gearShifting_value     fuel_type odometer_reading  \\\n",
       "0                                       Yes  Petrol + CNG         124600.0   \n",
       "1                                       Yes  Petrol + CNG          78108.0   \n",
       "2                                       Yes        Diesel          93348.0   \n",
       "3                                       Yes  Petrol + CNG          48233.0   \n",
       "4                                       Yes  Petrol + CNG          74368.0   \n",
       "...                                     ...           ...              ...   \n",
       "26302                                   Yes  Petrol + CNG          64532.0   \n",
       "26303                                   Yes        Petrol          88051.0   \n",
       "26304                                   Yes        Petrol          22656.0   \n",
       "26305                                   Yes        Diesel         126015.0   \n",
       "26306                                   Yes        Petrol          23983.0   \n",
       "\n",
       "      rating_engineTransmission  \n",
       "0                           3.0  \n",
       "1                           4.0  \n",
       "2                           3.5  \n",
       "3                           3.5  \n",
       "4                           4.0  \n",
       "...                         ...  \n",
       "26302                       4.0  \n",
       "26303                       4.0  \n",
       "26304                       3.5  \n",
       "26305                       4.5  \n",
       "26306                       4.5  \n",
       "\n",
       "[26307 rows x 24 columns]"
      ]
     },
     "execution_count": 10,
     "metadata": {},
     "output_type": "execute_result"
    }
   ],
   "source": [
    "output_df"
   ]
  },
  {
   "cell_type": "code",
   "execution_count": 11,
   "id": "b405ca2b",
   "metadata": {},
   "outputs": [
    {
     "data": {
      "text/plain": [
       "appointmentId                                                 0.000000\n",
       "inspectionStartTime                                           0.000000\n",
       "year                                                          0.000000\n",
       "month                                                         0.000000\n",
       "engineTransmission_battery_value                              0.000000\n",
       "engineTransmission_engineoilLevelDipstick_value               0.000000\n",
       "engineTransmission_engineOil                                  0.000000\n",
       "engineTransmission_engineOil_cc_value_0                      29.459840\n",
       "engineTransmission_engineOil_cc_value_1                      58.170829\n",
       "engineTransmission_engine_value                               0.000000\n",
       "engineTransmission_coolant_value                              0.000000\n",
       "engineTransmission_engineMounting_value                       0.000000\n",
       "engineTransmission_engineSound_value                          0.000000\n",
       "engineTransmission_engineSound_cc_value_0                    27.471776\n",
       "engineTransmission_engineSound_cc_value_1                    48.663854\n",
       "engineTransmission_exhaustSmoke_value                         0.000000\n",
       "engineTransmission_engineBlowByBackCompression_value          0.000000\n",
       "engineTransmission_engineBlowByBackCompression_cc_value_0     0.000000\n",
       "engineTransmission_clutch_value                               0.000000\n",
       "engineTransmission_clutch_cc_value_0                         55.281864\n",
       "engineTransmission_gearShifting_value                         0.000000\n",
       "fuel_type                                                     0.000000\n",
       "odometer_reading                                              0.000000\n",
       "rating_engineTransmission                                     0.000000\n",
       "dtype: float64"
      ]
     },
     "execution_count": 11,
     "metadata": {},
     "output_type": "execute_result"
    }
   ],
   "source": [
    "dataa.isnull().mean()*100"
   ]
  },
  {
   "cell_type": "code",
   "execution_count": 13,
   "id": "ee62a8e5",
   "metadata": {},
   "outputs": [
    {
     "name": "stdout",
     "output_type": "stream",
     "text": [
      "<class 'pandas.core.frame.DataFrame'>\n",
      "RangeIndex: 26307 entries, 0 to 26306\n",
      "Data columns (total 24 columns):\n",
      " #   Column                                                     Non-Null Count  Dtype  \n",
      "---  ------                                                     --------------  -----  \n",
      " 0   appointmentId                                              26307 non-null  object \n",
      " 1   inspectionStartTime                                        26307 non-null  object \n",
      " 2   year                                                       26307 non-null  float64\n",
      " 3   month                                                      26307 non-null  float64\n",
      " 4   engineTransmission_battery_value                           26307 non-null  object \n",
      " 5   engineTransmission_engineoilLevelDipstick_value            26307 non-null  object \n",
      " 6   engineTransmission_engineOil                               26307 non-null  object \n",
      " 7   engineTransmission_engineOil_cc_value_0                    18557 non-null  object \n",
      " 8   engineTransmission_engineOil_cc_value_1                    11004 non-null  object \n",
      " 9   engineTransmission_engine_value                            26307 non-null  object \n",
      " 10  engineTransmission_coolant_value                           26307 non-null  object \n",
      " 11  engineTransmission_engineMounting_value                    26307 non-null  object \n",
      " 12  engineTransmission_engineSound_value                       26307 non-null  object \n",
      " 13  engineTransmission_engineSound_cc_value_0                  19080 non-null  object \n",
      " 14  engineTransmission_engineSound_cc_value_1                  13505 non-null  object \n",
      " 15  engineTransmission_exhaustSmoke_value                      26307 non-null  object \n",
      " 16  engineTransmission_engineBlowByBackCompression_value       26307 non-null  object \n",
      " 17  engineTransmission_engineBlowByBackCompression_cc_value_0  26307 non-null  object \n",
      " 18  engineTransmission_clutch_value                            26307 non-null  object \n",
      " 19  engineTransmission_clutch_cc_value_0                       11764 non-null  object \n",
      " 20  engineTransmission_gearShifting_value                      26307 non-null  object \n",
      " 21  fuel_type                                                  26307 non-null  object \n",
      " 22  odometer_reading                                           26307 non-null  float64\n",
      " 23  rating_engineTransmission                                  26307 non-null  float64\n",
      "dtypes: float64(4), object(20)\n",
      "memory usage: 4.8+ MB\n"
     ]
    }
   ],
   "source": [
    "dataa.info()"
   ]
  },
  {
   "cell_type": "code",
   "execution_count": 15,
   "id": "2634aff6",
   "metadata": {},
   "outputs": [
    {
     "data": {
      "text/plain": [
       "<AxesSubplot:>"
      ]
     },
     "execution_count": 15,
     "metadata": {},
     "output_type": "execute_result"
    },
    {
     "data": {
      "image/png": "[encoded data removed]",
      "text/plain": [
       "<Figure size 432x288 with 1 Axes>"
      ]
     },
     "metadata": {
      "needs_background": "light"
     },
     "output_type": "display_data"
    }
   ],
   "source": [
    "dataa['engineTransmission_engineOil_cc_value_0'].value_counts().plot(kind ='bar')"
   ]
  },
  {
   "cell_type": "code",
   "execution_count": 16,
   "id": "753962d8",
   "metadata": {},
   "outputs": [
    {
     "data": {
      "text/plain": [
       "<AxesSubplot:>"
      ]
     },
     "execution_count": 16,
     "metadata": {},
     "output_type": "execute_result"
    },
    {
     "data": {
      "image/png": "[encoded data removed]",
      "text/plain": [
       "<Figure size 432x288 with 1 Axes>"
      ]
     },
     "metadata": {
      "needs_background": "light"
     },
     "output_type": "display_data"
    }
   ],
   "source": [
    "dataa['engineTransmission_engineSound_cc_value_1'].value_counts().plot(kind ='bar')"
   ]
  },
  {
   "cell_type": "code",
   "execution_count": 17,
   "id": "a001cec0",
   "metadata": {},
   "outputs": [
    {
     "data": {
      "text/plain": [
       "<AxesSubplot:>"
      ]
     },
     "execution_count": 17,
     "metadata": {},
     "output_type": "execute_result"
    },
    {
     "data": {
      "image/png": "[encoded data removed]",
      "text/plain": [
       "<Figure size 432x288 with 1 Axes>"
      ]
     },
     "metadata": {
      "needs_background": "light"
     },
     "output_type": "display_data"
    }
   ],
   "source": [
    "dataa['engineTransmission_engineSound_cc_value_0'].value_counts().plot(kind ='bar')\n"
   ]
  },
  {
   "cell_type": "code",
   "execution_count": 18,
   "id": "bfa5014e",
   "metadata": {},
   "outputs": [
    {
     "data": {
      "text/plain": [
       "<AxesSubplot:>"
      ]
     },
     "execution_count": 18,
     "metadata": {},
     "output_type": "execute_result"
    },
    {
     "data": {
      "image/png": "[encoded data removed]",
      "text/plain": [
       "<Figure size 432x288 with 1 Axes>"
      ]
     },
     "metadata": {
      "needs_background": "light"
     },
     "output_type": "display_data"
    }
   ],
   "source": [
    "dataa['engineTransmission_engineSound_cc_value_1'].value_counts().plot(kind ='bar')"
   ]
  },
  {
   "cell_type": "code",
   "execution_count": 19,
   "id": "b72111d8",
   "metadata": {},
   "outputs": [
    {
     "data": {
      "text/plain": [
       "<AxesSubplot:>"
      ]
     },
     "execution_count": 19,
     "metadata": {},
     "output_type": "execute_result"
    },
    {
     "data": {
      "image/png": "[encoded data removed]",
      "text/plain": [
       "<Figure size 432x288 with 1 Axes>"
      ]
     },
     "metadata": {
      "needs_background": "light"
     },
     "output_type": "display_data"
    }
   ],
   "source": [
    "dataa['engineTransmission_clutch_cc_value_0'].value_counts().plot(kind ='bar')"
   ]
  },
  {
   "cell_type": "code",
   "execution_count": 22,
   "id": "50fb12ac",
   "metadata": {},
   "outputs": [],
   "source": [
    "dataa['engineTransmission_engineOil_cc_value_0'].fillna('Leaking',inplace =True)\n",
    "dataa['engineTransmission_engineSound_cc_value_1'].fillna('Tappet Noise',inplace =True)\n",
    "dataa['engineTransmission_engineSound_cc_value_0'].fillna('Timing Noise',inplace =True)\n",
    "dataa['engineTransmission_engineSound_cc_value_1'].fillna('Tappet Noise',inplace =True)\n",
    "dataa['engineTransmission_clutch_cc_value_0'].fillna('Hard',inplace =True)"
   ]
  },
  {
   "cell_type": "code",
   "execution_count": 23,
   "id": "76681888",
   "metadata": {},
   "outputs": [
    {
     "name": "stdout",
     "output_type": "stream",
     "text": [
      "<class 'pandas.core.frame.DataFrame'>\n",
      "RangeIndex: 26307 entries, 0 to 26306\n",
      "Data columns (total 24 columns):\n",
      " #   Column                                                     Non-Null Count  Dtype  \n",
      "---  ------                                                     --------------  -----  \n",
      " 0   appointmentId                                              26307 non-null  object \n",
      " 1   inspectionStartTime                                        26307 non-null  object \n",
      " 2   year                                                       26307 non-null  float64\n",
      " 3   month                                                      26307 non-null  float64\n",
      " 4   engineTransmission_battery_value                           26307 non-null  object \n",
      " 5   engineTransmission_engineoilLevelDipstick_value            26307 non-null  object \n",
      " 6   engineTransmission_engineOil                               26307 non-null  object \n",
      " 7   engineTransmission_engineOil_cc_value_0                    26307 non-null  object \n",
      " 8   engineTransmission_engineOil_cc_value_1                    11004 non-null  object \n",
      " 9   engineTransmission_engine_value                            26307 non-null  object \n",
      " 10  engineTransmission_coolant_value                           26307 non-null  object \n",
      " 11  engineTransmission_engineMounting_value                    26307 non-null  object \n",
      " 12  engineTransmission_engineSound_value                       26307 non-null  object \n",
      " 13  engineTransmission_engineSound_cc_value_0                  26307 non-null  object \n",
      " 14  engineTransmission_engineSound_cc_value_1                  26307 non-null  object \n",
      " 15  engineTransmission_exhaustSmoke_value                      26307 non-null  object \n",
      " 16  engineTransmission_engineBlowByBackCompression_value       26307 non-null  object \n",
      " 17  engineTransmission_engineBlowByBackCompression_cc_value_0  26307 non-null  object \n",
      " 18  engineTransmission_clutch_value                            26307 non-null  object \n",
      " 19  engineTransmission_clutch_cc_value_0                       26307 non-null  object \n",
      " 20  engineTransmission_gearShifting_value                      26307 non-null  object \n",
      " 21  fuel_type                                                  26307 non-null  object \n",
      " 22  odometer_reading                                           26307 non-null  float64\n",
      " 23  rating_engineTransmission                                  26307 non-null  float64\n",
      "dtypes: float64(4), object(20)\n",
      "memory usage: 4.8+ MB\n"
     ]
    }
   ],
   "source": [
    "dataa.info()"
   ]
  },
  {
   "cell_type": "code",
   "execution_count": 24,
   "id": "1d46ee01",
   "metadata": {},
   "outputs": [
    {
     "data": {
      "text/plain": [
       "<seaborn.axisgrid.PairGrid at 0x20ecdfc8160>"
      ]
     },
     "execution_count": 24,
     "metadata": {},
     "output_type": "execute_result"
    },
    {
     "data": {
      "image/png": "[encoded data removed]",
      "text/plain": [
       "<Figure size 720x720 with 20 Axes>"
      ]
     },
     "metadata": {
      "needs_background": "light"
     },
     "output_type": "display_data"
    }
   ],
   "source": [
    "sns.pairplot(dataa)"
   ]
  },
  {
   "cell_type": "code",
   "execution_count": 29,
   "id": "2023a3f7",
   "metadata": {},
   "outputs": [],
   "source": [
    "corrmatrix= dataa.corr()"
   ]
  },
  {
   "cell_type": "code",
   "execution_count": 30,
   "id": "019dfa24",
   "metadata": {},
   "outputs": [
    {
     "data": {
      "text/plain": [
       "rating_engineTransmission    1.000000\n",
       "year                         0.586554\n",
       "month                        0.113765\n",
       "odometer_reading            -0.363312\n",
       "Name: rating_engineTransmission, dtype: float64"
      ]
     },
     "execution_count": 30,
     "metadata": {},
     "output_type": "execute_result"
    }
   ],
   "source": [
    "corrmatrix['rating_engineTransmission'].sort_values(ascending= False)"
   ]
  },
  {
   "cell_type": "code",
   "execution_count": 77,
   "id": "a52424b4",
   "metadata": {},
   "outputs": [
    {
     "data": {
      "text/plain": [
       "<AxesSubplot:>"
      ]
     },
     "execution_count": 77,
     "metadata": {},
     "output_type": "execute_result"
    },
    {
     "data": {
      "image/png": "[encoded data removed]",
      "text/plain": [
       "<Figure size 720x720 with 2 Axes>"
      ]
     },
     "metadata": {
      "needs_background": "light"
     },
     "output_type": "display_data"
    }
   ],
   "source": [
    "plt.figure(figsize=(10,10))\n",
    "sns.heatmap(corrmatrix, cbar=True, square=True, fmt='.1f', annot=True, annot_kws={'size':8}, cmap='Blues')\n"
   ]
  },
  {
   "cell_type": "code",
   "execution_count": 42,
   "id": "11fe31c7",
   "metadata": {},
   "outputs": [],
   "source": [
    "dataa['year'] = dataa['year'].astype(int)"
   ]
  },
  {
   "cell_type": "code",
   "execution_count": 43,
   "id": "53a02076",
   "metadata": {},
   "outputs": [],
   "source": [
    "dataa['odometer_reading'] = dataa['odometer_reading'].astype(int)"
   ]
  },
  {
   "cell_type": "code",
   "execution_count": 44,
   "id": "0cdc1fb5",
   "metadata": {},
   "outputs": [],
   "source": [
    "dataa['rating_engineTransmission'] = dataa['rating_engineTransmission'].astype(int)"
   ]
  },
  {
   "cell_type": "code",
   "execution_count": 45,
   "id": "d11709d7",
   "metadata": {},
   "outputs": [],
   "source": [
    "dataa['month'] = dataa['month'].astype(int)"
   ]
  },
  {
   "cell_type": "code",
   "execution_count": 46,
   "id": "34e74b03",
   "metadata": {},
   "outputs": [
    {
     "data": {
      "text/plain": [
       "rating_engineTransmission    1.000000\n",
       "year                         0.586554\n",
       "month                        0.113765\n",
       "odometer_reading            -0.363312\n",
       "Name: rating_engineTransmission, dtype: float64"
      ]
     },
     "execution_count": 46,
     "metadata": {},
     "output_type": "execute_result"
    }
   ],
   "source": [
    "corrmatrix['rating_engineTransmission'].sort_values(ascending= False)"
   ]
  },
  {
   "cell_type": "code",
   "execution_count": 47,
   "id": "31b974c5",
   "metadata": {},
   "outputs": [
    {
     "name": "stdout",
     "output_type": "stream",
     "text": [
      "<class 'pandas.core.frame.DataFrame'>\n",
      "RangeIndex: 26307 entries, 0 to 26306\n",
      "Data columns (total 24 columns):\n",
      " #   Column                                                     Non-Null Count  Dtype \n",
      "---  ------                                                     --------------  ----- \n",
      " 0   appointmentId                                              26307 non-null  object\n",
      " 1   inspectionStartTime                                        26307 non-null  object\n",
      " 2   year                                                       26307 non-null  int32 \n",
      " 3   month                                                      26307 non-null  int32 \n",
      " 4   engineTransmission_battery_value                           26307 non-null  object\n",
      " 5   engineTransmission_engineoilLevelDipstick_value            26307 non-null  object\n",
      " 6   engineTransmission_engineOil                               26307 non-null  object\n",
      " 7   engineTransmission_engineOil_cc_value_0                    26307 non-null  object\n",
      " 8   engineTransmission_engineOil_cc_value_1                    11004 non-null  object\n",
      " 9   engineTransmission_engine_value                            26307 non-null  object\n",
      " 10  engineTransmission_coolant_value                           26307 non-null  object\n",
      " 11  engineTransmission_engineMounting_value                    26307 non-null  object\n",
      " 12  engineTransmission_engineSound_value                       26307 non-null  object\n",
      " 13  engineTransmission_engineSound_cc_value_0                  26307 non-null  object\n",
      " 14  engineTransmission_engineSound_cc_value_1                  26307 non-null  object\n",
      " 15  engineTransmission_exhaustSmoke_value                      26307 non-null  object\n",
      " 16  engineTransmission_engineBlowByBackCompression_value       26307 non-null  object\n",
      " 17  engineTransmission_engineBlowByBackCompression_cc_value_0  26307 non-null  object\n",
      " 18  engineTransmission_clutch_value                            26307 non-null  object\n",
      " 19  engineTransmission_clutch_cc_value_0                       26307 non-null  object\n",
      " 20  engineTransmission_gearShifting_value                      26307 non-null  object\n",
      " 21  fuel_type                                                  26307 non-null  object\n",
      " 22  odometer_reading                                           26307 non-null  int32 \n",
      " 23  rating_engineTransmission                                  26307 non-null  int32 \n",
      "dtypes: int32(4), object(20)\n",
      "memory usage: 4.4+ MB\n"
     ]
    }
   ],
   "source": [
    "dataa.info()"
   ]
  },
  {
   "cell_type": "code",
   "execution_count": 53,
   "id": "60084d81",
   "metadata": {},
   "outputs": [
    {
     "ename": "KeyError",
     "evalue": "\"['appointmentId' 'inspectionStartTime'] not found in axis\"",
     "output_type": "error",
     "traceback": [
      "\u001b[1;31m---------------------------------------------------------------------------\u001b[0m",
      "\u001b[1;31mKeyError\u001b[0m                                  Traceback (most recent call last)",
      "\u001b[1;32m~\\AppData\\Local\\Temp/ipykernel_4396/3246131437.py\u001b[0m in \u001b[0;36m<module>\u001b[1;34m\u001b[0m\n\u001b[1;32m----> 1\u001b[1;33m \u001b[0mdataa\u001b[0m\u001b[1;33m.\u001b[0m\u001b[0mdrop\u001b[0m\u001b[1;33m(\u001b[0m\u001b[1;33m[\u001b[0m\u001b[1;34m'appointmentId'\u001b[0m\u001b[1;33m,\u001b[0m\u001b[1;34m'inspectionStartTime'\u001b[0m\u001b[1;33m]\u001b[0m\u001b[1;33m,\u001b[0m\u001b[0maxis\u001b[0m\u001b[1;33m=\u001b[0m \u001b[1;36m1\u001b[0m\u001b[1;33m,\u001b[0m \u001b[0minplace\u001b[0m\u001b[1;33m=\u001b[0m\u001b[1;32mTrue\u001b[0m\u001b[1;33m)\u001b[0m\u001b[1;33m\u001b[0m\u001b[1;33m\u001b[0m\u001b[0m\n\u001b[0m",
      "\u001b[1;32m~\\anaconda3\\lib\\site-packages\\pandas\\util\\_decorators.py\u001b[0m in \u001b[0;36mwrapper\u001b[1;34m(*args, **kwargs)\u001b[0m\n\u001b[0;32m    309\u001b[0m                     \u001b[0mstacklevel\u001b[0m\u001b[1;33m=\u001b[0m\u001b[0mstacklevel\u001b[0m\u001b[1;33m,\u001b[0m\u001b[1;33m\u001b[0m\u001b[1;33m\u001b[0m\u001b[0m\n\u001b[0;32m    310\u001b[0m                 )\n\u001b[1;32m--> 311\u001b[1;33m             \u001b[1;32mreturn\u001b[0m \u001b[0mfunc\u001b[0m\u001b[1;33m(\u001b[0m\u001b[1;33m*\u001b[0m\u001b[0margs\u001b[0m\u001b[1;33m,\u001b[0m \u001b[1;33m**\u001b[0m\u001b[0mkwargs\u001b[0m\u001b[1;33m)\u001b[0m\u001b[1;33m\u001b[0m\u001b[1;33m\u001b[0m\u001b[0m\n\u001b[0m\u001b[0;32m    312\u001b[0m \u001b[1;33m\u001b[0m\u001b[0m\n\u001b[0;32m    313\u001b[0m         \u001b[1;32mreturn\u001b[0m \u001b[0mwrapper\u001b[0m\u001b[1;33m\u001b[0m\u001b[1;33m\u001b[0m\u001b[0m\n",
      "\u001b[1;32m~\\anaconda3\\lib\\site-packages\\pandas\\core\\frame.py\u001b[0m in \u001b[0;36mdrop\u001b[1;34m(self, labels, axis, index, columns, level, inplace, errors)\u001b[0m\n\u001b[0;32m   4904\u001b[0m                 \u001b[0mweight\u001b[0m  \u001b[1;36m1.0\u001b[0m     \u001b[1;36m0.8\u001b[0m\u001b[1;33m\u001b[0m\u001b[1;33m\u001b[0m\u001b[0m\n\u001b[0;32m   4905\u001b[0m         \"\"\"\n\u001b[1;32m-> 4906\u001b[1;33m         return super().drop(\n\u001b[0m\u001b[0;32m   4907\u001b[0m             \u001b[0mlabels\u001b[0m\u001b[1;33m=\u001b[0m\u001b[0mlabels\u001b[0m\u001b[1;33m,\u001b[0m\u001b[1;33m\u001b[0m\u001b[1;33m\u001b[0m\u001b[0m\n\u001b[0;32m   4908\u001b[0m             \u001b[0maxis\u001b[0m\u001b[1;33m=\u001b[0m\u001b[0maxis\u001b[0m\u001b[1;33m,\u001b[0m\u001b[1;33m\u001b[0m\u001b[1;33m\u001b[0m\u001b[0m\n",
      "\u001b[1;32m~\\anaconda3\\lib\\site-packages\\pandas\\core\\generic.py\u001b[0m in \u001b[0;36mdrop\u001b[1;34m(self, labels, axis, index, columns, level, inplace, errors)\u001b[0m\n\u001b[0;32m   4148\u001b[0m         \u001b[1;32mfor\u001b[0m \u001b[0maxis\u001b[0m\u001b[1;33m,\u001b[0m \u001b[0mlabels\u001b[0m \u001b[1;32min\u001b[0m \u001b[0maxes\u001b[0m\u001b[1;33m.\u001b[0m\u001b[0mitems\u001b[0m\u001b[1;33m(\u001b[0m\u001b[1;33m)\u001b[0m\u001b[1;33m:\u001b[0m\u001b[1;33m\u001b[0m\u001b[1;33m\u001b[0m\u001b[0m\n\u001b[0;32m   4149\u001b[0m             \u001b[1;32mif\u001b[0m \u001b[0mlabels\u001b[0m \u001b[1;32mis\u001b[0m \u001b[1;32mnot\u001b[0m \u001b[1;32mNone\u001b[0m\u001b[1;33m:\u001b[0m\u001b[1;33m\u001b[0m\u001b[1;33m\u001b[0m\u001b[0m\n\u001b[1;32m-> 4150\u001b[1;33m                 \u001b[0mobj\u001b[0m \u001b[1;33m=\u001b[0m \u001b[0mobj\u001b[0m\u001b[1;33m.\u001b[0m\u001b[0m_drop_axis\u001b[0m\u001b[1;33m(\u001b[0m\u001b[0mlabels\u001b[0m\u001b[1;33m,\u001b[0m \u001b[0maxis\u001b[0m\u001b[1;33m,\u001b[0m \u001b[0mlevel\u001b[0m\u001b[1;33m=\u001b[0m\u001b[0mlevel\u001b[0m\u001b[1;33m,\u001b[0m \u001b[0merrors\u001b[0m\u001b[1;33m=\u001b[0m\u001b[0merrors\u001b[0m\u001b[1;33m)\u001b[0m\u001b[1;33m\u001b[0m\u001b[1;33m\u001b[0m\u001b[0m\n\u001b[0m\u001b[0;32m   4151\u001b[0m \u001b[1;33m\u001b[0m\u001b[0m\n\u001b[0;32m   4152\u001b[0m         \u001b[1;32mif\u001b[0m \u001b[0minplace\u001b[0m\u001b[1;33m:\u001b[0m\u001b[1;33m\u001b[0m\u001b[1;33m\u001b[0m\u001b[0m\n",
      "\u001b[1;32m~\\anaconda3\\lib\\site-packages\\pandas\\core\\generic.py\u001b[0m in \u001b[0;36m_drop_axis\u001b[1;34m(self, labels, axis, level, errors)\u001b[0m\n\u001b[0;32m   4183\u001b[0m                 \u001b[0mnew_axis\u001b[0m \u001b[1;33m=\u001b[0m \u001b[0maxis\u001b[0m\u001b[1;33m.\u001b[0m\u001b[0mdrop\u001b[0m\u001b[1;33m(\u001b[0m\u001b[0mlabels\u001b[0m\u001b[1;33m,\u001b[0m \u001b[0mlevel\u001b[0m\u001b[1;33m=\u001b[0m\u001b[0mlevel\u001b[0m\u001b[1;33m,\u001b[0m \u001b[0merrors\u001b[0m\u001b[1;33m=\u001b[0m\u001b[0merrors\u001b[0m\u001b[1;33m)\u001b[0m\u001b[1;33m\u001b[0m\u001b[1;33m\u001b[0m\u001b[0m\n\u001b[0;32m   4184\u001b[0m             \u001b[1;32melse\u001b[0m\u001b[1;33m:\u001b[0m\u001b[1;33m\u001b[0m\u001b[1;33m\u001b[0m\u001b[0m\n\u001b[1;32m-> 4185\u001b[1;33m                 \u001b[0mnew_axis\u001b[0m \u001b[1;33m=\u001b[0m \u001b[0maxis\u001b[0m\u001b[1;33m.\u001b[0m\u001b[0mdrop\u001b[0m\u001b[1;33m(\u001b[0m\u001b[0mlabels\u001b[0m\u001b[1;33m,\u001b[0m \u001b[0merrors\u001b[0m\u001b[1;33m=\u001b[0m\u001b[0merrors\u001b[0m\u001b[1;33m)\u001b[0m\u001b[1;33m\u001b[0m\u001b[1;33m\u001b[0m\u001b[0m\n\u001b[0m\u001b[0;32m   4186\u001b[0m             \u001b[0mresult\u001b[0m \u001b[1;33m=\u001b[0m \u001b[0mself\u001b[0m\u001b[1;33m.\u001b[0m\u001b[0mreindex\u001b[0m\u001b[1;33m(\u001b[0m\u001b[1;33m**\u001b[0m\u001b[1;33m{\u001b[0m\u001b[0maxis_name\u001b[0m\u001b[1;33m:\u001b[0m \u001b[0mnew_axis\u001b[0m\u001b[1;33m}\u001b[0m\u001b[1;33m)\u001b[0m\u001b[1;33m\u001b[0m\u001b[1;33m\u001b[0m\u001b[0m\n\u001b[0;32m   4187\u001b[0m \u001b[1;33m\u001b[0m\u001b[0m\n",
      "\u001b[1;32m~\\anaconda3\\lib\\site-packages\\pandas\\core\\indexes\\base.py\u001b[0m in \u001b[0;36mdrop\u001b[1;34m(self, labels, errors)\u001b[0m\n\u001b[0;32m   6015\u001b[0m         \u001b[1;32mif\u001b[0m \u001b[0mmask\u001b[0m\u001b[1;33m.\u001b[0m\u001b[0many\u001b[0m\u001b[1;33m(\u001b[0m\u001b[1;33m)\u001b[0m\u001b[1;33m:\u001b[0m\u001b[1;33m\u001b[0m\u001b[1;33m\u001b[0m\u001b[0m\n\u001b[0;32m   6016\u001b[0m             \u001b[1;32mif\u001b[0m \u001b[0merrors\u001b[0m \u001b[1;33m!=\u001b[0m \u001b[1;34m\"ignore\"\u001b[0m\u001b[1;33m:\u001b[0m\u001b[1;33m\u001b[0m\u001b[1;33m\u001b[0m\u001b[0m\n\u001b[1;32m-> 6017\u001b[1;33m                 \u001b[1;32mraise\u001b[0m \u001b[0mKeyError\u001b[0m\u001b[1;33m(\u001b[0m\u001b[1;34mf\"{labels[mask]} not found in axis\"\u001b[0m\u001b[1;33m)\u001b[0m\u001b[1;33m\u001b[0m\u001b[1;33m\u001b[0m\u001b[0m\n\u001b[0m\u001b[0;32m   6018\u001b[0m             \u001b[0mindexer\u001b[0m \u001b[1;33m=\u001b[0m \u001b[0mindexer\u001b[0m\u001b[1;33m[\u001b[0m\u001b[1;33m~\u001b[0m\u001b[0mmask\u001b[0m\u001b[1;33m]\u001b[0m\u001b[1;33m\u001b[0m\u001b[1;33m\u001b[0m\u001b[0m\n\u001b[0;32m   6019\u001b[0m         \u001b[1;32mreturn\u001b[0m \u001b[0mself\u001b[0m\u001b[1;33m.\u001b[0m\u001b[0mdelete\u001b[0m\u001b[1;33m(\u001b[0m\u001b[0mindexer\u001b[0m\u001b[1;33m)\u001b[0m\u001b[1;33m\u001b[0m\u001b[1;33m\u001b[0m\u001b[0m\n",
      "\u001b[1;31mKeyError\u001b[0m: \"['appointmentId' 'inspectionStartTime'] not found in axis\""
     ]
    }
   ],
   "source": [
    "dataa.drop(['appointmentId','inspectionStartTime'],axis= 1, inplace=True)"
   ]
  },
  {
   "cell_type": "code",
   "execution_count": 54,
   "id": "58f8f7e6",
   "metadata": {},
   "outputs": [],
   "source": [
    "from sklearn.preprocessing import LabelEncoder\n",
    "Encoding=LabelEncoder()"
   ]
  },
  {
   "cell_type": "code",
   "execution_count": 57,
   "id": "df70a704",
   "metadata": {},
   "outputs": [],
   "source": [
    "dataa['engineTransmission_battery_value']= Encoding.fit_transform(dataa['engineTransmission_battery_value'])\n",
    "dataa['engineTransmission_engineoilLevelDipstick_value']= Encoding.fit_transform(dataa['engineTransmission_engineoilLevelDipstick_value'])\n",
    "dataa['engineTransmission_engineOil']= Encoding.fit_transform(dataa['engineTransmission_engineOil'])\n",
    "dataa['engineTransmission_engine_value']= Encoding.fit_transform(dataa['engineTransmission_engine_value'])\n",
    "dataa['engineTransmission_coolant_value']= Encoding.fit_transform(dataa['engineTransmission_coolant_value'])\n",
    "dataa['engineTransmission_engineMounting_value']= Encoding.fit_transform(dataa['engineTransmission_engineMounting_value'])\n",
    "dataa['engineTransmission_engineSound_value']= Encoding.fit_transform(dataa['engineTransmission_engineSound_value'])\n",
    "dataa['engineTransmission_engineSound_cc_value_0']= Encoding.fit_transform(dataa['engineTransmission_engineSound_cc_value_0'])\n",
    "dataa['engineTransmission_exhaustSmoke_value']= Encoding.fit_transform(dataa['engineTransmission_exhaustSmoke_value'])\n",
    "dataa['engineTransmission_engineBlowByBackCompression_value']= Encoding.fit_transform(dataa['engineTransmission_engineBlowByBackCompression_value'])\n",
    "dataa['engineTransmission_engineBlowByBackCompression_cc_value_0']= Encoding.fit_transform(dataa['engineTransmission_engineBlowByBackCompression_cc_value_0'])\n",
    "dataa['engineTransmission_clutch_value']= Encoding.fit_transform(dataa['engineTransmission_clutch_value'])\n",
    "dataa['engineTransmission_gearShifting_value']= Encoding.fit_transform(dataa['engineTransmission_gearShifting_value'])\n",
    "dataa['fuel_type']= Encoding.fit_transform(dataa['fuel_type'])\n",
    "dataa['engineTransmission_clutch_cc_value_0']= Encoding.fit_transform(dataa['engineTransmission_clutch_cc_value_0'])\n",
    "dataa['engineTransmission_engineSound_cc_value_1']= Encoding.fit_transform(dataa['engineTransmission_engineSound_cc_value_1'])\n",
    "dataa['engineTransmission_engineOil_cc_value_1']= Encoding.fit_transform(dataa['engineTransmission_engineOil_cc_value_1'])\n",
    "dataa['engineTransmission_engineOil_cc_value_0']= Encoding.fit_transform(dataa['engineTransmission_engineOil_cc_value_0'])"
   ]
  },
  {
   "cell_type": "code",
   "execution_count": 58,
   "id": "bdd17d29",
   "metadata": {},
   "outputs": [
    {
     "data": {
      "text/html": [
       "<div>\n",
       "<style scoped>\n",
       "    .dataframe tbody tr th:only-of-type {\n",
       "        vertical-align: middle;\n",
       "    }\n",
       "\n",
       "    .dataframe tbody tr th {\n",
       "        vertical-align: top;\n",
       "    }\n",
       "\n",
       "    .dataframe thead th {\n",
       "        text-align: right;\n",
       "    }\n",
       "</style>\n",
       "<table border=\"1\" class=\"dataframe\">\n",
       "  <thead>\n",
       "    <tr style=\"text-align: right;\">\n",
       "      <th></th>\n",
       "      <th>year</th>\n",
       "      <th>month</th>\n",
       "      <th>engineTransmission_battery_value</th>\n",
       "      <th>engineTransmission_engineoilLevelDipstick_value</th>\n",
       "      <th>engineTransmission_engineOil</th>\n",
       "      <th>engineTransmission_engineOil_cc_value_0</th>\n",
       "      <th>engineTransmission_engineOil_cc_value_1</th>\n",
       "      <th>engineTransmission_engine_value</th>\n",
       "      <th>engineTransmission_coolant_value</th>\n",
       "      <th>engineTransmission_engineMounting_value</th>\n",
       "      <th>...</th>\n",
       "      <th>engineTransmission_engineSound_cc_value_1</th>\n",
       "      <th>engineTransmission_exhaustSmoke_value</th>\n",
       "      <th>engineTransmission_engineBlowByBackCompression_value</th>\n",
       "      <th>engineTransmission_engineBlowByBackCompression_cc_value_0</th>\n",
       "      <th>engineTransmission_clutch_value</th>\n",
       "      <th>engineTransmission_clutch_cc_value_0</th>\n",
       "      <th>engineTransmission_gearShifting_value</th>\n",
       "      <th>fuel_type</th>\n",
       "      <th>odometer_reading</th>\n",
       "      <th>rating_engineTransmission</th>\n",
       "    </tr>\n",
       "  </thead>\n",
       "  <tbody>\n",
       "    <tr>\n",
       "      <th>0</th>\n",
       "      <td>2008</td>\n",
       "      <td>8</td>\n",
       "      <td>0</td>\n",
       "      <td>1</td>\n",
       "      <td>0</td>\n",
       "      <td>5</td>\n",
       "      <td>0</td>\n",
       "      <td>0</td>\n",
       "      <td>0</td>\n",
       "      <td>0</td>\n",
       "      <td>...</td>\n",
       "      <td>5</td>\n",
       "      <td>0</td>\n",
       "      <td>0</td>\n",
       "      <td>0</td>\n",
       "      <td>0</td>\n",
       "      <td>6</td>\n",
       "      <td>1</td>\n",
       "      <td>4</td>\n",
       "      <td>124600</td>\n",
       "      <td>3</td>\n",
       "    </tr>\n",
       "    <tr>\n",
       "      <th>1</th>\n",
       "      <td>2007</td>\n",
       "      <td>5</td>\n",
       "      <td>1</td>\n",
       "      <td>1</td>\n",
       "      <td>0</td>\n",
       "      <td>5</td>\n",
       "      <td>0</td>\n",
       "      <td>0</td>\n",
       "      <td>0</td>\n",
       "      <td>1</td>\n",
       "      <td>...</td>\n",
       "      <td>3</td>\n",
       "      <td>0</td>\n",
       "      <td>1</td>\n",
       "      <td>1</td>\n",
       "      <td>1</td>\n",
       "      <td>3</td>\n",
       "      <td>1</td>\n",
       "      <td>4</td>\n",
       "      <td>78108</td>\n",
       "      <td>4</td>\n",
       "    </tr>\n",
       "    <tr>\n",
       "      <th>2</th>\n",
       "      <td>2012</td>\n",
       "      <td>5</td>\n",
       "      <td>1</td>\n",
       "      <td>1</td>\n",
       "      <td>0</td>\n",
       "      <td>0</td>\n",
       "      <td>8</td>\n",
       "      <td>1</td>\n",
       "      <td>0</td>\n",
       "      <td>0</td>\n",
       "      <td>...</td>\n",
       "      <td>1</td>\n",
       "      <td>0</td>\n",
       "      <td>1</td>\n",
       "      <td>3</td>\n",
       "      <td>0</td>\n",
       "      <td>3</td>\n",
       "      <td>1</td>\n",
       "      <td>0</td>\n",
       "      <td>93348</td>\n",
       "      <td>3</td>\n",
       "    </tr>\n",
       "    <tr>\n",
       "      <th>3</th>\n",
       "      <td>2013</td>\n",
       "      <td>1</td>\n",
       "      <td>1</td>\n",
       "      <td>1</td>\n",
       "      <td>0</td>\n",
       "      <td>0</td>\n",
       "      <td>8</td>\n",
       "      <td>1</td>\n",
       "      <td>0</td>\n",
       "      <td>1</td>\n",
       "      <td>...</td>\n",
       "      <td>3</td>\n",
       "      <td>1</td>\n",
       "      <td>1</td>\n",
       "      <td>1</td>\n",
       "      <td>0</td>\n",
       "      <td>3</td>\n",
       "      <td>1</td>\n",
       "      <td>4</td>\n",
       "      <td>48233</td>\n",
       "      <td>3</td>\n",
       "    </tr>\n",
       "    <tr>\n",
       "      <th>4</th>\n",
       "      <td>2011</td>\n",
       "      <td>7</td>\n",
       "      <td>1</td>\n",
       "      <td>1</td>\n",
       "      <td>0</td>\n",
       "      <td>5</td>\n",
       "      <td>3</td>\n",
       "      <td>0</td>\n",
       "      <td>1</td>\n",
       "      <td>0</td>\n",
       "      <td>...</td>\n",
       "      <td>3</td>\n",
       "      <td>0</td>\n",
       "      <td>1</td>\n",
       "      <td>1</td>\n",
       "      <td>0</td>\n",
       "      <td>6</td>\n",
       "      <td>1</td>\n",
       "      <td>4</td>\n",
       "      <td>74368</td>\n",
       "      <td>4</td>\n",
       "    </tr>\n",
       "    <tr>\n",
       "      <th>...</th>\n",
       "      <td>...</td>\n",
       "      <td>...</td>\n",
       "      <td>...</td>\n",
       "      <td>...</td>\n",
       "      <td>...</td>\n",
       "      <td>...</td>\n",
       "      <td>...</td>\n",
       "      <td>...</td>\n",
       "      <td>...</td>\n",
       "      <td>...</td>\n",
       "      <td>...</td>\n",
       "      <td>...</td>\n",
       "      <td>...</td>\n",
       "      <td>...</td>\n",
       "      <td>...</td>\n",
       "      <td>...</td>\n",
       "      <td>...</td>\n",
       "      <td>...</td>\n",
       "      <td>...</td>\n",
       "      <td>...</td>\n",
       "      <td>...</td>\n",
       "    </tr>\n",
       "    <tr>\n",
       "      <th>26302</th>\n",
       "      <td>2013</td>\n",
       "      <td>3</td>\n",
       "      <td>1</td>\n",
       "      <td>1</td>\n",
       "      <td>0</td>\n",
       "      <td>5</td>\n",
       "      <td>0</td>\n",
       "      <td>1</td>\n",
       "      <td>0</td>\n",
       "      <td>1</td>\n",
       "      <td>...</td>\n",
       "      <td>3</td>\n",
       "      <td>1</td>\n",
       "      <td>1</td>\n",
       "      <td>1</td>\n",
       "      <td>1</td>\n",
       "      <td>3</td>\n",
       "      <td>1</td>\n",
       "      <td>4</td>\n",
       "      <td>64532</td>\n",
       "      <td>4</td>\n",
       "    </tr>\n",
       "    <tr>\n",
       "      <th>26303</th>\n",
       "      <td>2007</td>\n",
       "      <td>8</td>\n",
       "      <td>0</td>\n",
       "      <td>0</td>\n",
       "      <td>0</td>\n",
       "      <td>0</td>\n",
       "      <td>8</td>\n",
       "      <td>0</td>\n",
       "      <td>0</td>\n",
       "      <td>0</td>\n",
       "      <td>...</td>\n",
       "      <td>4</td>\n",
       "      <td>1</td>\n",
       "      <td>0</td>\n",
       "      <td>0</td>\n",
       "      <td>0</td>\n",
       "      <td>3</td>\n",
       "      <td>1</td>\n",
       "      <td>3</td>\n",
       "      <td>88051</td>\n",
       "      <td>4</td>\n",
       "    </tr>\n",
       "    <tr>\n",
       "      <th>26304</th>\n",
       "      <td>2004</td>\n",
       "      <td>7</td>\n",
       "      <td>1</td>\n",
       "      <td>1</td>\n",
       "      <td>0</td>\n",
       "      <td>5</td>\n",
       "      <td>0</td>\n",
       "      <td>0</td>\n",
       "      <td>0</td>\n",
       "      <td>0</td>\n",
       "      <td>...</td>\n",
       "      <td>3</td>\n",
       "      <td>1</td>\n",
       "      <td>1</td>\n",
       "      <td>1</td>\n",
       "      <td>0</td>\n",
       "      <td>3</td>\n",
       "      <td>1</td>\n",
       "      <td>3</td>\n",
       "      <td>22656</td>\n",
       "      <td>3</td>\n",
       "    </tr>\n",
       "    <tr>\n",
       "      <th>26305</th>\n",
       "      <td>2010</td>\n",
       "      <td>12</td>\n",
       "      <td>1</td>\n",
       "      <td>1</td>\n",
       "      <td>0</td>\n",
       "      <td>0</td>\n",
       "      <td>2</td>\n",
       "      <td>1</td>\n",
       "      <td>1</td>\n",
       "      <td>0</td>\n",
       "      <td>...</td>\n",
       "      <td>3</td>\n",
       "      <td>0</td>\n",
       "      <td>1</td>\n",
       "      <td>1</td>\n",
       "      <td>1</td>\n",
       "      <td>3</td>\n",
       "      <td>1</td>\n",
       "      <td>0</td>\n",
       "      <td>126015</td>\n",
       "      <td>4</td>\n",
       "    </tr>\n",
       "    <tr>\n",
       "      <th>26306</th>\n",
       "      <td>2015</td>\n",
       "      <td>11</td>\n",
       "      <td>1</td>\n",
       "      <td>1</td>\n",
       "      <td>0</td>\n",
       "      <td>0</td>\n",
       "      <td>8</td>\n",
       "      <td>1</td>\n",
       "      <td>1</td>\n",
       "      <td>1</td>\n",
       "      <td>...</td>\n",
       "      <td>3</td>\n",
       "      <td>1</td>\n",
       "      <td>1</td>\n",
       "      <td>1</td>\n",
       "      <td>1</td>\n",
       "      <td>3</td>\n",
       "      <td>1</td>\n",
       "      <td>3</td>\n",
       "      <td>23983</td>\n",
       "      <td>4</td>\n",
       "    </tr>\n",
       "  </tbody>\n",
       "</table>\n",
       "<p>26307 rows × 22 columns</p>\n",
       "</div>"
      ],
      "text/plain": [
       "       year  month  engineTransmission_battery_value  \\\n",
       "0      2008      8                                 0   \n",
       "1      2007      5                                 1   \n",
       "2      2012      5                                 1   \n",
       "3      2013      1                                 1   \n",
       "4      2011      7                                 1   \n",
       "...     ...    ...                               ...   \n",
       "26302  2013      3                                 1   \n",
       "26303  2007      8                                 0   \n",
       "26304  2004      7                                 1   \n",
       "26305  2010     12                                 1   \n",
       "26306  2015     11                                 1   \n",
       "\n",
       "       engineTransmission_engineoilLevelDipstick_value  \\\n",
       "0                                                    1   \n",
       "1                                                    1   \n",
       "2                                                    1   \n",
       "3                                                    1   \n",
       "4                                                    1   \n",
       "...                                                ...   \n",
       "26302                                                1   \n",
       "26303                                                0   \n",
       "26304                                                1   \n",
       "26305                                                1   \n",
       "26306                                                1   \n",
       "\n",
       "       engineTransmission_engineOil  engineTransmission_engineOil_cc_value_0  \\\n",
       "0                                 0                                        5   \n",
       "1                                 0                                        5   \n",
       "2                                 0                                        0   \n",
       "3                                 0                                        0   \n",
       "4                                 0                                        5   \n",
       "...                             ...                                      ...   \n",
       "26302                             0                                        5   \n",
       "26303                             0                                        0   \n",
       "26304                             0                                        5   \n",
       "26305                             0                                        0   \n",
       "26306                             0                                        0   \n",
       "\n",
       "       engineTransmission_engineOil_cc_value_1  \\\n",
       "0                                            0   \n",
       "1                                            0   \n",
       "2                                            8   \n",
       "3                                            8   \n",
       "4                                            3   \n",
       "...                                        ...   \n",
       "26302                                        0   \n",
       "26303                                        8   \n",
       "26304                                        0   \n",
       "26305                                        2   \n",
       "26306                                        8   \n",
       "\n",
       "       engineTransmission_engine_value  engineTransmission_coolant_value  \\\n",
       "0                                    0                                 0   \n",
       "1                                    0                                 0   \n",
       "2                                    1                                 0   \n",
       "3                                    1                                 0   \n",
       "4                                    0                                 1   \n",
       "...                                ...                               ...   \n",
       "26302                                1                                 0   \n",
       "26303                                0                                 0   \n",
       "26304                                0                                 0   \n",
       "26305                                1                                 1   \n",
       "26306                                1                                 1   \n",
       "\n",
       "       engineTransmission_engineMounting_value  ...  \\\n",
       "0                                            0  ...   \n",
       "1                                            1  ...   \n",
       "2                                            0  ...   \n",
       "3                                            1  ...   \n",
       "4                                            0  ...   \n",
       "...                                        ...  ...   \n",
       "26302                                        1  ...   \n",
       "26303                                        0  ...   \n",
       "26304                                        0  ...   \n",
       "26305                                        0  ...   \n",
       "26306                                        1  ...   \n",
       "\n",
       "       engineTransmission_engineSound_cc_value_1  \\\n",
       "0                                              5   \n",
       "1                                              3   \n",
       "2                                              1   \n",
       "3                                              3   \n",
       "4                                              3   \n",
       "...                                          ...   \n",
       "26302                                          3   \n",
       "26303                                          4   \n",
       "26304                                          3   \n",
       "26305                                          3   \n",
       "26306                                          3   \n",
       "\n",
       "       engineTransmission_exhaustSmoke_value  \\\n",
       "0                                          0   \n",
       "1                                          0   \n",
       "2                                          0   \n",
       "3                                          1   \n",
       "4                                          0   \n",
       "...                                      ...   \n",
       "26302                                      1   \n",
       "26303                                      1   \n",
       "26304                                      1   \n",
       "26305                                      0   \n",
       "26306                                      1   \n",
       "\n",
       "       engineTransmission_engineBlowByBackCompression_value  \\\n",
       "0                                                      0      \n",
       "1                                                      1      \n",
       "2                                                      1      \n",
       "3                                                      1      \n",
       "4                                                      1      \n",
       "...                                                  ...      \n",
       "26302                                                  1      \n",
       "26303                                                  0      \n",
       "26304                                                  1      \n",
       "26305                                                  1      \n",
       "26306                                                  1      \n",
       "\n",
       "       engineTransmission_engineBlowByBackCompression_cc_value_0  \\\n",
       "0                                                      0           \n",
       "1                                                      1           \n",
       "2                                                      3           \n",
       "3                                                      1           \n",
       "4                                                      1           \n",
       "...                                                  ...           \n",
       "26302                                                  1           \n",
       "26303                                                  0           \n",
       "26304                                                  1           \n",
       "26305                                                  1           \n",
       "26306                                                  1           \n",
       "\n",
       "       engineTransmission_clutch_value  engineTransmission_clutch_cc_value_0  \\\n",
       "0                                    0                                     6   \n",
       "1                                    1                                     3   \n",
       "2                                    0                                     3   \n",
       "3                                    0                                     3   \n",
       "4                                    0                                     6   \n",
       "...                                ...                                   ...   \n",
       "26302                                1                                     3   \n",
       "26303                                0                                     3   \n",
       "26304                                0                                     3   \n",
       "26305                                1                                     3   \n",
       "26306                                1                                     3   \n",
       "\n",
       "       engineTransmission_gearShifting_value  fuel_type  odometer_reading  \\\n",
       "0                                          1          4            124600   \n",
       "1                                          1          4             78108   \n",
       "2                                          1          0             93348   \n",
       "3                                          1          4             48233   \n",
       "4                                          1          4             74368   \n",
       "...                                      ...        ...               ...   \n",
       "26302                                      1          4             64532   \n",
       "26303                                      1          3             88051   \n",
       "26304                                      1          3             22656   \n",
       "26305                                      1          0            126015   \n",
       "26306                                      1          3             23983   \n",
       "\n",
       "       rating_engineTransmission  \n",
       "0                              3  \n",
       "1                              4  \n",
       "2                              3  \n",
       "3                              3  \n",
       "4                              4  \n",
       "...                          ...  \n",
       "26302                          4  \n",
       "26303                          4  \n",
       "26304                          3  \n",
       "26305                          4  \n",
       "26306                          4  \n",
       "\n",
       "[26307 rows x 22 columns]"
      ]
     },
     "execution_count": 58,
     "metadata": {},
     "output_type": "execute_result"
    }
   ],
   "source": [
    "dataa"
   ]
  },
  {
   "cell_type": "code",
   "execution_count": 60,
   "id": "935e7f49",
   "metadata": {},
   "outputs": [],
   "source": [
    "x = dataa.drop(['rating_engineTransmission'], axis=1)\n",
    "y = dataa['rating_engineTransmission']"
   ]
  },
  {
   "cell_type": "code",
   "execution_count": 61,
   "id": "47de2bba",
   "metadata": {},
   "outputs": [],
   "source": [
    "from sklearn.model_selection import train_test_split\n",
    "x_train , x_test , y_train , y_test =train_test_split(x,y,test_size=0.3)\n"
   ]
  },
  {
   "cell_type": "code",
   "execution_count": 62,
   "id": "a63fb332",
   "metadata": {},
   "outputs": [],
   "source": [
    "from sklearn.tree import DecisionTreeClassifier\n",
    "classifier =DecisionTreeClassifier(criterion= 'gini')"
   ]
  },
  {
   "cell_type": "code",
   "execution_count": 63,
   "id": "50dc0e8c",
   "metadata": {},
   "outputs": [
    {
     "data": {
      "text/plain": [
       "DecisionTreeClassifier()"
      ]
     },
     "execution_count": 63,
     "metadata": {},
     "output_type": "execute_result"
    }
   ],
   "source": [
    "classifier.fit(x_train, y_train)"
   ]
  },
  {
   "cell_type": "code",
   "execution_count": 64,
   "id": "c2fde721",
   "metadata": {},
   "outputs": [
    {
     "data": {
      "text/plain": [
       "array([4, 3, 3, ..., 4, 4, 3])"
      ]
     },
     "execution_count": 64,
     "metadata": {},
     "output_type": "execute_result"
    }
   ],
   "source": [
    "classifier.predict(x_test)"
   ]
  },
  {
   "cell_type": "code",
   "execution_count": 65,
   "id": "fd2d4e2e",
   "metadata": {},
   "outputs": [
    {
     "data": {
      "text/plain": [
       "0.5962245027239326"
      ]
     },
     "execution_count": 65,
     "metadata": {},
     "output_type": "execute_result"
    }
   ],
   "source": [
    "classifier.score(x_test,y_test)"
   ]
  },
  {
   "cell_type": "code",
   "execution_count": 66,
   "id": "830e5909",
   "metadata": {},
   "outputs": [],
   "source": [
    "prediction=classifier.predict(x_test)\n",
    "acc = round(accuracy_score(prediction , y_test)*100,2)"
   ]
  },
  {
   "cell_type": "code",
   "execution_count": 67,
   "id": "b38134d6",
   "metadata": {},
   "outputs": [
    {
     "name": "stdout",
     "output_type": "stream",
     "text": [
      "59.62\n"
     ]
    }
   ],
   "source": [
    "print(acc)"
   ]
  },
  {
   "cell_type": "markdown",
   "id": "57f34788",
   "metadata": {},
   "source": [
    "# Random Forest"
   ]
  },
  {
   "cell_type": "code",
   "execution_count": 68,
   "id": "368d39d2",
   "metadata": {},
   "outputs": [],
   "source": [
    "from sklearn.ensemble import RandomForestClassifier"
   ]
  },
  {
   "cell_type": "code",
   "execution_count": 69,
   "id": "2b06d8cb",
   "metadata": {},
   "outputs": [],
   "source": [
    "classifierr =RandomForestClassifier(n_estimators=100, criterion='gini')"
   ]
  },
  {
   "cell_type": "code",
   "execution_count": 70,
   "id": "5c161312",
   "metadata": {},
   "outputs": [
    {
     "data": {
      "text/plain": [
       "RandomForestClassifier()"
      ]
     },
     "execution_count": 70,
     "metadata": {},
     "output_type": "execute_result"
    }
   ],
   "source": [
    "classifierr.fit(x_train, y_train)"
   ]
  },
  {
   "cell_type": "code",
   "execution_count": 71,
   "id": "30504be5",
   "metadata": {},
   "outputs": [
    {
     "data": {
      "text/plain": [
       "array([4, 3, 4, ..., 4, 4, 4])"
      ]
     },
     "execution_count": 71,
     "metadata": {},
     "output_type": "execute_result"
    }
   ],
   "source": [
    "classifierr.predict(x_test)"
   ]
  },
  {
   "cell_type": "code",
   "execution_count": 73,
   "id": "23734097",
   "metadata": {},
   "outputs": [
    {
     "data": {
      "text/plain": [
       "0.6889649056125681"
      ]
     },
     "execution_count": 73,
     "metadata": {},
     "output_type": "execute_result"
    }
   ],
   "source": [
    "classifierr.score(x_test,y_test)"
   ]
  },
  {
   "cell_type": "markdown",
   "id": "eb5805dd",
   "metadata": {},
   "source": [
    "# Please answer the following:"
   ]
  },
  {
   "cell_type": "markdown",
   "id": "554e45e5",
   "metadata": {},
   "source": [
    "1.Briefly describe your approach to this problem and the steps you took"
   ]
  },
  {
   "cell_type": "markdown",
   "id": "bfd5276a",
   "metadata": {},
   "source": [
    "steps:"
   ]
  },
  {
   "cell_type": "markdown",
   "id": "5321996c",
   "metadata": {},
   "source": [
    "import data using pandas library, then understand the data, and then detemine the null values in data, then apply train test split and after that fit the model and predict the accuracy"
   ]
  },
  {
   "cell_type": "markdown",
   "id": "4db402aa",
   "metadata": {},
   "source": [
    "2.Basics:"
   ]
  },
  {
   "cell_type": "markdown",
   "id": "d8d825d3",
   "metadata": {},
   "source": [
    "a.How well does your model work?"
   ]
  },
  {
   "cell_type": "markdown",
   "id": "19c53b66",
   "metadata": {},
   "source": [
    "most of the columns are having null values so the accuracy score is too good according to the given lack data."
   ]
  },
  {
   "cell_type": "markdown",
   "id": "8ce60845",
   "metadata": {},
   "source": [
    "b.How do you know for sure that’s how well it works?"
   ]
  },
  {
   "cell_type": "markdown",
   "id": "645dc97d",
   "metadata": {},
   "source": [
    "I had taken all the necessary steps which are intial steps to moving with data and keep remind of all the failure so for sure thats well it works. "
   ]
  },
  {
   "cell_type": "markdown",
   "id": "8f37ceac",
   "metadata": {},
   "source": [
    "c.What stats did you use to prove its predictive performance and why?"
   ]
  },
  {
   "cell_type": "markdown",
   "id": "4564e45a",
   "metadata": {},
   "source": [
    "No,i don't use any stats"
   ]
  },
  {
   "cell_type": "markdown",
   "id": "53ee3509",
   "metadata": {},
   "source": [
    "d.What issues did you encounter?"
   ]
  },
  {
   "cell_type": "markdown",
   "id": "e2119d77",
   "metadata": {},
   "source": [
    "Main issue is dealing with null values beacz 64% of the data is with null value so to encounter them is big task"
   ]
  },
  {
   "cell_type": "markdown",
   "id": "f02a030c",
   "metadata": {},
   "source": [
    "e.What insights did you obtain from this data? For example: What features are important? Why? What visualisations help you understand the data?"
   ]
  },
  {
   "cell_type": "markdown",
   "id": "c66dac9c",
   "metadata": {},
   "source": [
    "I get the insights by drawing heat map and pairplot to get some meaningful data."
   ]
  },
  {
   "cell_type": "markdown",
   "id": "77bfd699",
   "metadata": {},
   "source": [
    "Next steps:"
   ]
  },
  {
   "cell_type": "markdown",
   "id": "bf42196f",
   "metadata": {},
   "source": [
    "a.What other data (if any) would have been useful?"
   ]
  },
  {
   "cell_type": "markdown",
   "id": "d93dc6d4",
   "metadata": {},
   "source": [
    "if this data contain more column with numerical values then it will be helpful to get some high predictive score"
   ]
  },
  {
   "cell_type": "markdown",
   "id": "cbcd6bbe",
   "metadata": {},
   "source": [
    "b.What are some other things you would have done if you had more time?"
   ]
  },
  {
   "cell_type": "markdown",
   "id": "a387f90c",
   "metadata": {},
   "source": [
    "if i get more time then i will take mean or median of the data to fill that null values and operate with that column also."
   ]
  }
 ],
 "metadata": {
  "kernelspec": {
   "display_name": "Python 3 (ipykernel)",
   "language": "python",
   "name": "python3"
  },
  "language_info": {
   "codemirror_mode": {
    "name": "ipython",
    "version": 3
   },
   "file_extension": ".py",
   "mimetype": "text/x-python",
   "name": "python",
   "nbconvert_exporter": "python",
   "pygments_lexer": "ipython3",
   "version": "3.9.7"
  }
 },
 "nbformat": 4,
 "nbformat_minor": 5
}
